{
 "cells": [
  {
   "cell_type": "code",
   "execution_count": 1,
   "id": "27797cfd",
   "metadata": {},
   "outputs": [],
   "source": [
    "#Most popular activation functions\n",
    "#1. Step function\n",
    "#2, Sigmid function\n",
    "#3. TanH\n",
    "#4. RelU\n",
    "#5. Leaky ReLU\n",
    "#6. Softmax"
   ]
  },
  {
   "cell_type": "code",
   "execution_count": null,
   "id": "d2789916",
   "metadata": {},
   "outputs": [],
   "source": []
  }
 ],
 "metadata": {
  "kernelspec": {
   "display_name": "Python 3 (ipykernel)",
   "language": "python",
   "name": "python3"
  },
  "language_info": {
   "codemirror_mode": {
    "name": "ipython",
    "version": 3
   },
   "file_extension": ".py",
   "mimetype": "text/x-python",
   "name": "python",
   "nbconvert_exporter": "python",
   "pygments_lexer": "ipython3",
   "version": "3.11.5"
  }
 },
 "nbformat": 4,
 "nbformat_minor": 5
}
