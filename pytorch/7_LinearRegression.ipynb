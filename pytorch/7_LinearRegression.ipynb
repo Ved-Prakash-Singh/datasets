{
 "cells": [
  {
   "cell_type": "code",
   "execution_count": 20,
   "id": "1332166c",
   "metadata": {},
   "outputs": [],
   "source": [
    "import torch\n",
    "import torch.nn as nn\n",
    "import numpy as np\n",
    "from sklearn import datasets\n",
    "import matplotlib.pyplot as plt"
   ]
  },
  {
   "cell_type": "code",
   "execution_count": 21,
   "id": "8061eb83",
   "metadata": {},
   "outputs": [],
   "source": [
    "#0. prepare data"
   ]
  },
  {
   "cell_type": "code",
   "execution_count": 22,
   "id": "a346726d",
   "metadata": {},
   "outputs": [],
   "source": [
    "X_numpy, y_numpy = datasets.make_regression(n_samples = 100, n_features = 1, noise=20, random_state=1)"
   ]
  },
  {
   "cell_type": "code",
   "execution_count": 23,
   "id": "00f1eacc",
   "metadata": {},
   "outputs": [],
   "source": [
    "X=torch.from_numpy(X_numpy.astype(np.float32))\n",
    "y=torch.from_numpy(y_numpy.astype(np.float32))"
   ]
  },
  {
   "cell_type": "code",
   "execution_count": 24,
   "id": "01b98f02",
   "metadata": {},
   "outputs": [],
   "source": [
    "y=y.view(y.shape[0],1)"
   ]
  },
  {
   "cell_type": "code",
   "execution_count": 25,
   "id": "684d0234",
   "metadata": {},
   "outputs": [
    {
     "data": {
      "text/plain": [
       "torch.Size([100, 1])"
      ]
     },
     "execution_count": 25,
     "metadata": {},
     "output_type": "execute_result"
    }
   ],
   "source": [
    "X.shape"
   ]
  },
  {
   "cell_type": "code",
   "execution_count": 26,
   "id": "bbcc098a",
   "metadata": {},
   "outputs": [],
   "source": [
    "n_samples, n_features = X.shape"
   ]
  },
  {
   "cell_type": "code",
   "execution_count": 27,
   "id": "fcf420d8",
   "metadata": {},
   "outputs": [],
   "source": [
    "#1. Design Model"
   ]
  },
  {
   "cell_type": "code",
   "execution_count": 28,
   "id": "1a3ee068",
   "metadata": {},
   "outputs": [],
   "source": [
    "input_size = n_features\n",
    "output_size=1"
   ]
  },
  {
   "cell_type": "code",
   "execution_count": 29,
   "id": "6056b279",
   "metadata": {},
   "outputs": [],
   "source": [
    "model = nn.Linear(input_size, output_size)"
   ]
  },
  {
   "cell_type": "code",
   "execution_count": 30,
   "id": "c41924f3",
   "metadata": {},
   "outputs": [],
   "source": [
    "#2. Define loss and optimizer"
   ]
  },
  {
   "cell_type": "code",
   "execution_count": 31,
   "id": "51a5fe26",
   "metadata": {},
   "outputs": [],
   "source": [
    "learning_rate=0.01"
   ]
  },
  {
   "cell_type": "code",
   "execution_count": 32,
   "id": "ab7272cb",
   "metadata": {},
   "outputs": [],
   "source": [
    "criterion = nn.MSELoss()"
   ]
  },
  {
   "cell_type": "code",
   "execution_count": 33,
   "id": "eaee8532",
   "metadata": {},
   "outputs": [],
   "source": [
    "optimizer = torch.optim.SGD(model.parameters(), lr = learning_rate)"
   ]
  },
  {
   "cell_type": "code",
   "execution_count": 34,
   "id": "a4333d93",
   "metadata": {},
   "outputs": [],
   "source": [
    "#3. training loop"
   ]
  },
  {
   "cell_type": "code",
   "execution_count": 35,
   "id": "f91de206",
   "metadata": {},
   "outputs": [],
   "source": [
    "num_epoch = 100"
   ]
  },
  {
   "cell_type": "code",
   "execution_count": 41,
   "id": "a2829349",
   "metadata": {},
   "outputs": [
    {
     "name": "stdout",
     "output_type": "stream",
     "text": [
      "epoch: 10, loss=332.5682\n",
      "epoch: 20, loss=332.5681\n",
      "epoch: 30, loss=332.5679\n",
      "epoch: 40, loss=332.5678\n",
      "epoch: 50, loss=332.5678\n",
      "epoch: 60, loss=332.5677\n",
      "epoch: 70, loss=332.5677\n",
      "epoch: 80, loss=332.5676\n",
      "epoch: 90, loss=332.5676\n",
      "epoch: 100, loss=332.5676\n"
     ]
    },
    {
     "data": {
      "image/png": "[encoded data removed]",
      "text/plain": [
       "<Figure size 640x480 with 1 Axes>"
      ]
     },
     "metadata": {},
     "output_type": "display_data"
    }
   ],
   "source": [
    "for epoch in range(num_epoch):\n",
    "    #forward pass ad loss\n",
    "    y_predicted = model(X)\n",
    "    loss = criterion(y_predicted, y)\n",
    "    #backward pass\n",
    "    loss.backward()\n",
    "    #update\n",
    "    optimizer.step()\n",
    "    optimizer.zero_grad()\n",
    "    \n",
    "    if((epoch+1)%10 == 0):\n",
    "        print(f'epoch: {epoch+1}, loss={loss.item():.4f}')\n",
    "        \n",
    "#plots\n",
    "predicted = model(X).detach().numpy()\n",
    "plt.plot(X_numpy, y_numpy, 'ro')\n",
    "plt.plot(X_numpy, predicted, 'b')\n",
    "plt.show()"
   ]
  },
  {
   "cell_type": "code",
   "execution_count": null,
   "id": "0878abd3",
   "metadata": {},
   "outputs": [],
   "source": []
  },
  {
   "cell_type": "code",
   "execution_count": null,
   "id": "5953109c",
   "metadata": {},
   "outputs": [],
   "source": []
  }
 ],
 "metadata": {
  "kernelspec": {
   "display_name": "Python 3 (ipykernel)",
   "language": "python",
   "name": "python3"
  },
  "language_info": {
   "codemirror_mode": {
    "name": "ipython",
    "version": 3
   },
   "file_extension": ".py",
   "mimetype": "text/x-python",
   "name": "python",
   "nbconvert_exporter": "python",
   "pygments_lexer": "ipython3",
   "version": "3.11.5"
  }
 },
 "nbformat": 4,
 "nbformat_minor": 5
}
