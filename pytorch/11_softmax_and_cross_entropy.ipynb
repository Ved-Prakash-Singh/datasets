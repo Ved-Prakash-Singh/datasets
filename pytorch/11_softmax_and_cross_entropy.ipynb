{
 "cells": [
  {
   "cell_type": "code",
   "execution_count": 1,
   "id": "58b0c7a0",
   "metadata": {},
   "outputs": [],
   "source": [
    "import torch\n",
    "import torch.nn as nn\n",
    "import numpy as np"
   ]
  },
  {
   "cell_type": "code",
   "execution_count": 2,
   "id": "7243636e",
   "metadata": {},
   "outputs": [],
   "source": [
    "def softmax(x):\n",
    "    return np.exp(x) / np.sum(np.exp(x), axis=0)"
   ]
  },
  {
   "cell_type": "code",
   "execution_count": 4,
   "id": "cf3d01e6",
   "metadata": {},
   "outputs": [
    {
     "name": "stdout",
     "output_type": "stream",
     "text": [
      "softmax numpy:  [0.65900114 0.24243297 0.09856589]\n"
     ]
    }
   ],
   "source": [
    "x=np.array([2.0, 1.0, 0.1])\n",
    "outputs = softmax(x)\n",
    "print('softmax numpy: ', outputs)"
   ]
  },
  {
   "cell_type": "code",
   "execution_count": 5,
   "id": "c19e684f",
   "metadata": {},
   "outputs": [
    {
     "name": "stdout",
     "output_type": "stream",
     "text": [
      "softmax tensor:  tensor([0.6590, 0.2424, 0.0986])\n"
     ]
    }
   ],
   "source": [
    "x=torch.tensor([2.0, 1.0, 0.1])\n",
    "outputs=torch.softmax(x, dim=0)\n",
    "print('softmax tensor: ', outputs)"
   ]
  },
  {
   "cell_type": "code",
   "execution_count": 6,
   "id": "b33d94e5",
   "metadata": {},
   "outputs": [],
   "source": [
    "def cross_entropy(actual, predicted):\n",
    "    loss = -np.sum(actual*np.log(predicted))\n",
    "    return loss"
   ]
  },
  {
   "cell_type": "code",
   "execution_count": 7,
   "id": "3f767fca",
   "metadata": {},
   "outputs": [],
   "source": [
    "#Y must be one hot encoded\n",
    "Y = np.array([1,0,0])"
   ]
  },
  {
   "cell_type": "code",
   "execution_count": 8,
   "id": "e55f9cc9",
   "metadata": {},
   "outputs": [],
   "source": [
    "#Y_predicted be probability\n",
    "\n",
    "Y_pred_good = np.array([0.7, 0.2, 0.1])  #Remeber, this is values after applying softmax\n",
    "Y_pred_bad = np.array([0.1, 0.3, 0.6])  #Remeber, this is values after applying softmax"
   ]
  },
  {
   "cell_type": "code",
   "execution_count": 10,
   "id": "c412f00c",
   "metadata": {},
   "outputs": [],
   "source": [
    "l1 = cross_entropy(Y, Y_pred_good)\n",
    "l2 = cross_entropy(Y, Y_pred_bad)"
   ]
  },
  {
   "cell_type": "code",
   "execution_count": 11,
   "id": "4d715d29",
   "metadata": {},
   "outputs": [
    {
     "name": "stdout",
     "output_type": "stream",
     "text": [
      "Loss1 numpy:0.3567\n",
      "Loss2 numpy:2.3026\n"
     ]
    }
   ],
   "source": [
    "print(f'Loss1 numpy:{l1:.4f}')\n",
    "print(f'Loss2 numpy:{l2:.4f}')"
   ]
  },
  {
   "cell_type": "code",
   "execution_count": 12,
   "id": "616d09a2",
   "metadata": {},
   "outputs": [],
   "source": [
    "#Using Trensor"
   ]
  },
  {
   "cell_type": "code",
   "execution_count": 14,
   "id": "5c4dffeb",
   "metadata": {},
   "outputs": [],
   "source": [
    "loss = nn.CrossEntropyLoss()"
   ]
  },
  {
   "cell_type": "code",
   "execution_count": 21,
   "id": "f9eb8025",
   "metadata": {},
   "outputs": [],
   "source": [
    "#1 sample\n",
    "Y = torch.tensor([0]) #only class label, no one hot encoded needed\n",
    "\n",
    "#nsamples * n class\n",
    "Y_pred_good = torch.tensor([[2.0, 1.0, 0.1]])  #REMEBER: this is raw valu, we didn't apply softmax\n",
    "Y_pred_bad = torch.tensor([[0.5, 2.0, 0.3]])  #REMEBER: this is raw valu, we didn't apply softmax\n",
    "                                                #Also remember that, this is in double brackertt [[]] (i.e., array of array), however in numpy implementation it was single bracket[]\n",
    "    "
   ]
  },
  {
   "cell_type": "code",
   "execution_count": 22,
   "id": "b8e90c2d",
   "metadata": {},
   "outputs": [
    {
     "name": "stdout",
     "output_type": "stream",
     "text": [
      "0.4170299470424652\n",
      "1.840616226196289\n"
     ]
    }
   ],
   "source": [
    "l1=loss(Y_pred_good, Y)\n",
    "l2=loss(Y_pred_bad, Y)\n",
    "print(l1.item())\n",
    "print(l2.item())"
   ]
  },
  {
   "cell_type": "code",
   "execution_count": 24,
   "id": "bab3f60a",
   "metadata": {},
   "outputs": [
    {
     "name": "stdout",
     "output_type": "stream",
     "text": [
      "tensor([0])\n",
      "tensor([1])\n"
     ]
    }
   ],
   "source": [
    "_, predictions1 = torch.max(Y_pred_good, 1)\n",
    "_, predictions2 = torch.max(Y_pred_bad, 1)\n",
    "print(predictions1)\n",
    "print(predictions2)\n"
   ]
  },
  {
   "cell_type": "code",
   "execution_count": 25,
   "id": "6e34ad39",
   "metadata": {},
   "outputs": [],
   "source": [
    "#3 sample\n",
    "Y = torch.tensor([2,0,1]) #only class label, no one hot encoded needed\n",
    "\n",
    "#nsamples * n class\n",
    "Y_pred_good = torch.tensor([[0.1, 1.0, 2.1], [2.0, 1.0, 0.1], [0.1, 3.0, 0.1]])  #REMEBER: this is raw valu, we didn't apply softmax\n",
    "Y_pred_bad = torch.tensor([[2.1, 1.0, 0.1], [0.1, 1.0, 2.1], [0.1, 3.0, 0.1]])  #REMEBER: this is raw valu, we didn't apply softmax\n",
    "                                                #Also remember that, this is in double brackertt [[]] (i.e., array of array), however in numpy implementation it was single bracket[]\n",
    "    "
   ]
  },
  {
   "cell_type": "code",
   "execution_count": 26,
   "id": "17ecdf07",
   "metadata": {},
   "outputs": [
    {
     "name": "stdout",
     "output_type": "stream",
     "text": [
      "0.3018244206905365\n",
      "1.6241613626480103\n"
     ]
    }
   ],
   "source": [
    "l1=loss(Y_pred_good, Y)\n",
    "l2=loss(Y_pred_bad, Y)\n",
    "print(l1.item())\n",
    "print(l2.item())"
   ]
  },
  {
   "cell_type": "code",
   "execution_count": 27,
   "id": "ae012c90",
   "metadata": {},
   "outputs": [
    {
     "name": "stdout",
     "output_type": "stream",
     "text": [
      "tensor([2, 0, 1])\n",
      "tensor([0, 2, 1])\n"
     ]
    }
   ],
   "source": [
    "_, predictions1 = torch.max(Y_pred_good, 1)\n",
    "_, predictions2 = torch.max(Y_pred_bad, 1)\n",
    "print(predictions1)\n",
    "print(predictions2)"
   ]
  },
  {
   "cell_type": "markdown",
   "id": "1b3f99f9",
   "metadata": {},
   "source": [
    "Note: In pytorch must be carefull that, since we use CrossEntropyLoss hence we must not manually implement softmax layer"
   ]
  },
  {
   "cell_type": "markdown",
   "id": "36bd587f",
   "metadata": {},
   "source": [
    "Note: But if we use BCELoss() which stands for binary cross entropy loss, then we must use sigmoid at the end"
   ]
  },
  {
   "cell_type": "code",
   "execution_count": null,
   "id": "fee466c6",
   "metadata": {},
   "outputs": [],
   "source": []
  }
 ],
 "metadata": {
  "kernelspec": {
   "display_name": "Python 3 (ipykernel)",
   "language": "python",
   "name": "python3"
  },
  "language_info": {
   "codemirror_mode": {
    "name": "ipython",
    "version": 3
   },
   "file_extension": ".py",
   "mimetype": "text/x-python",
   "name": "python",
   "nbconvert_exporter": "python",
   "pygments_lexer": "ipython3",
   "version": "3.11.5"
  }
 },
 "nbformat": 4,
 "nbformat_minor": 5
}
