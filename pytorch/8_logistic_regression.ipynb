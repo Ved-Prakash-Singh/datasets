{
 "cells": [
  {
   "cell_type": "code",
   "execution_count": 24,
   "id": "a6227165",
   "metadata": {},
   "outputs": [],
   "source": [
    "import torch\n",
    "import torch.nn as nn\n",
    "import numpy as np\n",
    "from sklearn import datasets\n",
    "from sklearn.preprocessing import StandardScaler\n",
    "from sklearn.model_selection import train_test_split"
   ]
  },
  {
   "cell_type": "code",
   "execution_count": 25,
   "id": "4fce0ec4",
   "metadata": {},
   "outputs": [],
   "source": [
    "#0. prepare data\n",
    "bc = datasets.load_breast_cancer()\n",
    "X,y = bc.data, bc.target"
   ]
  },
  {
   "cell_type": "code",
   "execution_count": 26,
   "id": "b0fcd735",
   "metadata": {},
   "outputs": [
    {
     "name": "stdout",
     "output_type": "stream",
     "text": [
      "569 30\n"
     ]
    }
   ],
   "source": [
    "n_samples, n_features = X.shape\n",
    "print(n_samples, n_features)"
   ]
  },
  {
   "cell_type": "code",
   "execution_count": 27,
   "id": "5487a434",
   "metadata": {},
   "outputs": [],
   "source": [
    "X_train, X_test, y_train, y_test = train_test_split(X,y, test_size=0.2, random_state=1234)"
   ]
  },
  {
   "cell_type": "code",
   "execution_count": 28,
   "id": "4354bc32",
   "metadata": {},
   "outputs": [],
   "source": [
    "#scale\n",
    "sc = StandardScaler()\n",
    "X_train = sc.fit_transform(X_train)\n",
    "X_test = sc.transform(X_test)"
   ]
  },
  {
   "cell_type": "code",
   "execution_count": 29,
   "id": "9b3e24ef",
   "metadata": {},
   "outputs": [],
   "source": [
    "X_train = torch.from_numpy(X_train.astype(np.float32))\n",
    "X_test = torch.from_numpy(X_test.astype(np.float32))\n",
    "\n",
    "y_train = torch.from_numpy(y_train.astype(np.float32))\n",
    "y_test = torch.from_numpy(y_test.astype(np.float32))"
   ]
  },
  {
   "cell_type": "code",
   "execution_count": 30,
   "id": "c0f57d47",
   "metadata": {},
   "outputs": [],
   "source": [
    "y_train = y_train.view(y_train.shape[0],1)\n",
    "y_test = y_test.view(y_test.shape[0],1)"
   ]
  },
  {
   "cell_type": "code",
   "execution_count": 31,
   "id": "37349921",
   "metadata": {},
   "outputs": [],
   "source": [
    "#1. model"
   ]
  },
  {
   "cell_type": "code",
   "execution_count": 39,
   "id": "d019b2d2",
   "metadata": {},
   "outputs": [],
   "source": [
    "class LogisticRegression(nn.Module):\n",
    "    def __init__(self, n_input_features):\n",
    "        super(LogisticRegression, self).__init__()\n",
    "        self.linear = nn.Linear(n_input_features,1)\n",
    "    def forward(self,x):\n",
    "        y_predicted = torch.sigmoid(self.linear(x))\n",
    "        return y_predicted"
   ]
  },
  {
   "cell_type": "code",
   "execution_count": 40,
   "id": "a67ea48f",
   "metadata": {},
   "outputs": [],
   "source": [
    "model = LogisticRegression(n_features)"
   ]
  },
  {
   "cell_type": "code",
   "execution_count": null,
   "id": "79f2726e",
   "metadata": {},
   "outputs": [],
   "source": []
  },
  {
   "cell_type": "code",
   "execution_count": null,
   "id": "1ddf6789",
   "metadata": {},
   "outputs": [],
   "source": []
  },
  {
   "cell_type": "code",
   "execution_count": 41,
   "id": "12913b83",
   "metadata": {},
   "outputs": [],
   "source": [
    "#2. loss and optimizer"
   ]
  },
  {
   "cell_type": "code",
   "execution_count": 42,
   "id": "e0625a82",
   "metadata": {},
   "outputs": [],
   "source": [
    "learning_rate=0.01\n",
    "criterion = nn.BCELoss()\n",
    "optimizer = torch.optim.SGD(model.parameters(), lr=learning_rate)"
   ]
  },
  {
   "cell_type": "code",
   "execution_count": null,
   "id": "d66a1e9b",
   "metadata": {},
   "outputs": [],
   "source": []
  },
  {
   "cell_type": "code",
   "execution_count": 43,
   "id": "2c227d77",
   "metadata": {},
   "outputs": [],
   "source": [
    "#3. training loop"
   ]
  },
  {
   "cell_type": "code",
   "execution_count": 47,
   "id": "ffff241e",
   "metadata": {},
   "outputs": [
    {
     "name": "stdout",
     "output_type": "stream",
     "text": [
      "epoch: 10, loss = 0.1766\n",
      "epoch: 20, loss = 0.1730\n",
      "epoch: 30, loss = 0.1695\n",
      "epoch: 40, loss = 0.1663\n",
      "epoch: 50, loss = 0.1633\n",
      "epoch: 60, loss = 0.1604\n",
      "epoch: 70, loss = 0.1578\n",
      "epoch: 80, loss = 0.1552\n",
      "epoch: 90, loss = 0.1528\n",
      "epoch: 100, loss = 0.1505\n",
      "epoch: 110, loss = 0.1483\n",
      "epoch: 120, loss = 0.1462\n",
      "epoch: 130, loss = 0.1442\n",
      "epoch: 140, loss = 0.1423\n",
      "epoch: 150, loss = 0.1405\n",
      "epoch: 160, loss = 0.1387\n",
      "epoch: 170, loss = 0.1370\n",
      "epoch: 180, loss = 0.1354\n",
      "epoch: 190, loss = 0.1339\n",
      "epoch: 200, loss = 0.1324\n",
      "epoch: 210, loss = 0.1310\n",
      "epoch: 220, loss = 0.1296\n",
      "epoch: 230, loss = 0.1282\n",
      "epoch: 240, loss = 0.1270\n",
      "epoch: 250, loss = 0.1257\n",
      "epoch: 260, loss = 0.1245\n",
      "epoch: 270, loss = 0.1234\n",
      "epoch: 280, loss = 0.1222\n",
      "epoch: 290, loss = 0.1212\n",
      "epoch: 300, loss = 0.1201\n",
      "epoch: 310, loss = 0.1191\n",
      "epoch: 320, loss = 0.1181\n",
      "epoch: 330, loss = 0.1171\n",
      "epoch: 340, loss = 0.1162\n",
      "epoch: 350, loss = 0.1153\n",
      "epoch: 360, loss = 0.1144\n",
      "epoch: 370, loss = 0.1135\n",
      "epoch: 380, loss = 0.1127\n",
      "epoch: 390, loss = 0.1119\n",
      "epoch: 400, loss = 0.1111\n",
      "epoch: 410, loss = 0.1103\n",
      "epoch: 420, loss = 0.1096\n",
      "epoch: 430, loss = 0.1088\n",
      "epoch: 440, loss = 0.1081\n",
      "epoch: 450, loss = 0.1074\n",
      "epoch: 460, loss = 0.1067\n",
      "epoch: 470, loss = 0.1061\n",
      "epoch: 480, loss = 0.1054\n",
      "epoch: 490, loss = 0.1048\n",
      "epoch: 500, loss = 0.1042\n",
      "epoch: 510, loss = 0.1035\n",
      "epoch: 520, loss = 0.1030\n",
      "epoch: 530, loss = 0.1024\n",
      "epoch: 540, loss = 0.1018\n",
      "epoch: 550, loss = 0.1012\n",
      "epoch: 560, loss = 0.1007\n",
      "epoch: 570, loss = 0.1002\n",
      "epoch: 580, loss = 0.0996\n",
      "epoch: 590, loss = 0.0991\n",
      "epoch: 600, loss = 0.0986\n",
      "epoch: 610, loss = 0.0981\n",
      "epoch: 620, loss = 0.0976\n",
      "epoch: 630, loss = 0.0971\n",
      "epoch: 640, loss = 0.0967\n",
      "epoch: 650, loss = 0.0962\n",
      "epoch: 660, loss = 0.0958\n",
      "epoch: 670, loss = 0.0953\n",
      "epoch: 680, loss = 0.0949\n",
      "epoch: 690, loss = 0.0945\n",
      "epoch: 700, loss = 0.0940\n",
      "epoch: 710, loss = 0.0936\n",
      "epoch: 720, loss = 0.0932\n",
      "epoch: 730, loss = 0.0928\n",
      "epoch: 740, loss = 0.0924\n",
      "epoch: 750, loss = 0.0920\n",
      "epoch: 760, loss = 0.0917\n",
      "epoch: 770, loss = 0.0913\n",
      "epoch: 780, loss = 0.0909\n",
      "epoch: 790, loss = 0.0905\n",
      "epoch: 800, loss = 0.0902\n",
      "epoch: 810, loss = 0.0898\n",
      "epoch: 820, loss = 0.0895\n",
      "epoch: 830, loss = 0.0891\n",
      "epoch: 840, loss = 0.0888\n",
      "epoch: 850, loss = 0.0885\n",
      "epoch: 860, loss = 0.0882\n",
      "epoch: 870, loss = 0.0878\n",
      "epoch: 880, loss = 0.0875\n",
      "epoch: 890, loss = 0.0872\n",
      "epoch: 900, loss = 0.0869\n",
      "epoch: 910, loss = 0.0866\n",
      "epoch: 920, loss = 0.0863\n",
      "epoch: 930, loss = 0.0860\n",
      "epoch: 940, loss = 0.0857\n",
      "epoch: 950, loss = 0.0854\n",
      "epoch: 960, loss = 0.0851\n",
      "epoch: 970, loss = 0.0849\n",
      "epoch: 980, loss = 0.0846\n",
      "epoch: 990, loss = 0.0843\n",
      "epoch: 1000, loss = 0.0840\n"
     ]
    }
   ],
   "source": [
    "num_epochs=1000\n",
    "for epoch in range(num_epochs):\n",
    "    #forward pass\n",
    "    y_predicted = model(X_train)\n",
    "    #loss calculation\n",
    "    loss = criterion(y_predicted, y_train)\n",
    "    #backward pass\n",
    "    loss.backward()\n",
    "    #updates\n",
    "    optimizer.step()\n",
    "    #zero gradients\n",
    "    optimizer.zero_grad()\n",
    "    if((epoch+1)%10 ==0):\n",
    "        print(f'epoch: {epoch+1}, loss = {loss.item():.4f}')"
   ]
  },
  {
   "cell_type": "code",
   "execution_count": 48,
   "id": "aa8e7e46",
   "metadata": {},
   "outputs": [
    {
     "name": "stdout",
     "output_type": "stream",
     "text": [
      "accuracy = 0.9386\n"
     ]
    }
   ],
   "source": [
    "#evaluate the model\n",
    "with torch.no_grad():\n",
    "    y_predicted = model(X_test)\n",
    "    y_predicted_cls = y_predicted.round()\n",
    "    acc = y_predicted_cls.eq(y_test).sum() / float(y_test.shape[0])\n",
    "    print(f'accuracy = {acc:.4f}')"
   ]
  },
  {
   "cell_type": "code",
   "execution_count": null,
   "id": "12b3bcc6",
   "metadata": {},
   "outputs": [],
   "source": []
  },
  {
   "cell_type": "code",
   "execution_count": null,
   "id": "2d332c79",
   "metadata": {},
   "outputs": [],
   "source": []
  }
 ],
 "metadata": {
  "kernelspec": {
   "display_name": "Python 3 (ipykernel)",
   "language": "python",
   "name": "python3"
  },
  "language_info": {
   "codemirror_mode": {
    "name": "ipython",
    "version": 3
   },
   "file_extension": ".py",
   "mimetype": "text/x-python",
   "name": "python",
   "nbconvert_exporter": "python",
   "pygments_lexer": "ipython3",
   "version": "3.11.5"
  }
 },
 "nbformat": 4,
 "nbformat_minor": 5
}
