{
 "cells": [
  {
   "cell_type": "code",
   "execution_count": 1,
   "id": "b85cae1a",
   "metadata": {},
   "outputs": [],
   "source": [
    "import numpy as np\n",
    "\n",
    "#Input array\n",
    "X=np.array([1,2,3,4], dtype=np.float32)\n",
    "\n",
    "#Output array\n",
    "Y=np.array([2,4,6,8], dtype=np.float32)"
   ]
  },
  {
   "cell_type": "code",
   "execution_count": 2,
   "id": "9e370458",
   "metadata": {},
   "outputs": [],
   "source": [
    "#Initialize weight\n",
    "w=0.0"
   ]
  },
  {
   "cell_type": "code",
   "execution_count": 3,
   "id": "bcb4c8d0",
   "metadata": {},
   "outputs": [],
   "source": [
    "#Model prediction\n",
    "def forward(x):\n",
    "    return w*x"
   ]
  },
  {
   "cell_type": "code",
   "execution_count": 4,
   "id": "66776555",
   "metadata": {},
   "outputs": [],
   "source": [
    "#Loss = MSE\n",
    "def loss(y, y_predicted):\n",
    "    return ((y_predicted-y)**2).mean()"
   ]
  },
  {
   "cell_type": "code",
   "execution_count": 5,
   "id": "008d4292",
   "metadata": {},
   "outputs": [],
   "source": [
    "#Gradient\n",
    "#MSE = 1/N * (w*x-y) **2\n",
    "#derivative d MSE/ dw = 1/N * 2x * (wx-y)\n",
    "\n",
    "def gradient(x,y,y_predicted):\n",
    "    return np.dot(2*x, y_predicted-y).mean()"
   ]
  },
  {
   "cell_type": "code",
   "execution_count": 6,
   "id": "77d04ed3",
   "metadata": {},
   "outputs": [
    {
     "name": "stdout",
     "output_type": "stream",
     "text": [
      "prediction before training: f(5) = 0.000\n"
     ]
    }
   ],
   "source": [
    "print(f'prediction before training: f(5) = {forward(5):.3f}')"
   ]
  },
  {
   "cell_type": "code",
   "execution_count": 7,
   "id": "9a1867c7",
   "metadata": {},
   "outputs": [
    {
     "name": "stdout",
     "output_type": "stream",
     "text": [
      "epoch 1: w=1.200, loss = 30.00000000\n",
      "epoch 2: w=1.680, loss = 4.79999924\n",
      "epoch 3: w=1.872, loss = 0.76800019\n",
      "epoch 4: w=1.949, loss = 0.12288000\n",
      "epoch 5: w=1.980, loss = 0.01966083\n",
      "epoch 6: w=1.992, loss = 0.00314570\n",
      "epoch 7: w=1.997, loss = 0.00050332\n",
      "epoch 8: w=1.999, loss = 0.00008053\n",
      "epoch 9: w=1.999, loss = 0.00001288\n",
      "epoch 10: w=2.000, loss = 0.00000206\n",
      "prediction after training: f(5) = 9.999\n"
     ]
    }
   ],
   "source": [
    "#Training\n",
    "learning_rate=0.01\n",
    "n_iters=10\n",
    "\n",
    "for epoch in range(n_iters):\n",
    "    #prediction\n",
    "    y_pred = forward(X)\n",
    "    \n",
    "    #loss\n",
    "    l = loss(Y, y_pred)\n",
    "    \n",
    "    #gradients\n",
    "    dw = gradient(X,Y,y_pred)\n",
    "    \n",
    "    #update weights\n",
    "    w = w - learning_rate * dw # negative sign ensures, opposite direction of gradient\n",
    "    \n",
    "    if epoch %1 ==0:\n",
    "        print(f'epoch {epoch+1}: w={w:.3f}, loss = {l:.8f}')\n",
    "        \n",
    "print(f'prediction after training: f(5) = {forward(5):.3f}')"
   ]
  },
  {
   "cell_type": "code",
   "execution_count": null,
   "id": "4903ea26",
   "metadata": {},
   "outputs": [],
   "source": []
  }
 ],
 "metadata": {
  "kernelspec": {
   "display_name": "Python 3 (ipykernel)",
   "language": "python",
   "name": "python3"
  },
  "language_info": {
   "codemirror_mode": {
    "name": "ipython",
    "version": 3
   },
   "file_extension": ".py",
   "mimetype": "text/x-python",
   "name": "python",
   "nbconvert_exporter": "python",
   "pygments_lexer": "ipython3",
   "version": "3.11.5"
  }
 },
 "nbformat": 4,
 "nbformat_minor": 5
}
