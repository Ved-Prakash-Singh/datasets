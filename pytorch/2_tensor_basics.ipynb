{
 "cells": [
  {
   "cell_type": "code",
   "execution_count": 1,
   "id": "a17b298c",
   "metadata": {},
   "outputs": [],
   "source": [
    "import torch"
   ]
  },
  {
   "cell_type": "markdown",
   "id": "56a59f54",
   "metadata": {},
   "source": [
    "Creating tensor of empty values"
   ]
  },
  {
   "cell_type": "code",
   "execution_count": 2,
   "id": "aa9d3888",
   "metadata": {},
   "outputs": [],
   "source": [
    "x=torch.empty(1)"
   ]
  },
  {
   "cell_type": "code",
   "execution_count": 3,
   "id": "2c76de4d",
   "metadata": {},
   "outputs": [
    {
     "name": "stdout",
     "output_type": "stream",
     "text": [
      "tensor([0.])\n"
     ]
    }
   ],
   "source": [
    "print(x)"
   ]
  },
  {
   "cell_type": "code",
   "execution_count": 4,
   "id": "908a1e18",
   "metadata": {},
   "outputs": [],
   "source": [
    "x=torch.empty(3)"
   ]
  },
  {
   "cell_type": "code",
   "execution_count": 5,
   "id": "587b6cce",
   "metadata": {},
   "outputs": [
    {
     "name": "stdout",
     "output_type": "stream",
     "text": [
      "tensor([0., 0., 0.])\n"
     ]
    }
   ],
   "source": [
    "print(x)"
   ]
  },
  {
   "cell_type": "code",
   "execution_count": 6,
   "id": "dbdf1b45",
   "metadata": {},
   "outputs": [],
   "source": [
    "x=torch.empty(2,3)"
   ]
  },
  {
   "cell_type": "code",
   "execution_count": 7,
   "id": "ff100fbd",
   "metadata": {},
   "outputs": [
    {
     "name": "stdout",
     "output_type": "stream",
     "text": [
      "tensor([[0., 0., 0.],\n",
      "        [0., 0., 0.]])\n"
     ]
    }
   ],
   "source": [
    "print(x)"
   ]
  },
  {
   "cell_type": "code",
   "execution_count": 8,
   "id": "e5fb5f26",
   "metadata": {},
   "outputs": [],
   "source": [
    "x=torch.empty(2,3,3)"
   ]
  },
  {
   "cell_type": "code",
   "execution_count": 9,
   "id": "4f3bfc4d",
   "metadata": {},
   "outputs": [
    {
     "name": "stdout",
     "output_type": "stream",
     "text": [
      "tensor([[[-8.1353e-31,  1.7558e-42,  0.0000e+00],\n",
      "         [ 0.0000e+00,  0.0000e+00,  0.0000e+00],\n",
      "         [ 0.0000e+00,  0.0000e+00,  0.0000e+00]],\n",
      "\n",
      "        [[ 0.0000e+00,  0.0000e+00,  0.0000e+00],\n",
      "         [ 0.0000e+00,  0.0000e+00,  0.0000e+00],\n",
      "         [ 0.0000e+00,  0.0000e+00,  0.0000e+00]]])\n"
     ]
    }
   ],
   "source": [
    "print(x)"
   ]
  },
  {
   "cell_type": "code",
   "execution_count": 10,
   "id": "07fceca7",
   "metadata": {},
   "outputs": [],
   "source": [
    "x=torch.empty(2,2,3,3)"
   ]
  },
  {
   "cell_type": "code",
   "execution_count": 11,
   "id": "cf3e6374",
   "metadata": {},
   "outputs": [
    {
     "name": "stdout",
     "output_type": "stream",
     "text": [
      "tensor([[[[-8.1970e-31,  1.7558e-42,  0.0000e+00],\n",
      "          [ 0.0000e+00,  0.0000e+00,  0.0000e+00],\n",
      "          [ 0.0000e+00,  0.0000e+00,  0.0000e+00]],\n",
      "\n",
      "         [[ 0.0000e+00,  0.0000e+00,  0.0000e+00],\n",
      "          [ 0.0000e+00,  0.0000e+00,  0.0000e+00],\n",
      "          [ 0.0000e+00,  0.0000e+00,  0.0000e+00]]],\n",
      "\n",
      "\n",
      "        [[[ 0.0000e+00,  0.0000e+00,  0.0000e+00],\n",
      "          [ 0.0000e+00,  0.0000e+00,  0.0000e+00],\n",
      "          [ 0.0000e+00,  0.0000e+00,  0.0000e+00]],\n",
      "\n",
      "         [[ 0.0000e+00,  0.0000e+00,  0.0000e+00],\n",
      "          [ 0.0000e+00,  0.0000e+00,  0.0000e+00],\n",
      "          [ 0.0000e+00,  0.0000e+00,  0.0000e+00]]]])\n"
     ]
    }
   ],
   "source": [
    "print(x)"
   ]
  },
  {
   "cell_type": "markdown",
   "id": "fca247ef",
   "metadata": {},
   "source": [
    "Creating tensor of random values"
   ]
  },
  {
   "cell_type": "code",
   "execution_count": 12,
   "id": "a5a73754",
   "metadata": {},
   "outputs": [],
   "source": [
    "x=torch.rand(2,2)"
   ]
  },
  {
   "cell_type": "code",
   "execution_count": 13,
   "id": "447624a5",
   "metadata": {},
   "outputs": [
    {
     "name": "stdout",
     "output_type": "stream",
     "text": [
      "tensor([[0.1573, 0.7667],\n",
      "        [0.1023, 0.5799]])\n"
     ]
    }
   ],
   "source": [
    "print(x)"
   ]
  },
  {
   "cell_type": "markdown",
   "id": "fd1b6ec8",
   "metadata": {},
   "source": [
    "Creating tensor of zeros"
   ]
  },
  {
   "cell_type": "code",
   "execution_count": 14,
   "id": "93db245e",
   "metadata": {},
   "outputs": [],
   "source": [
    "x=torch.zeros(2,2)"
   ]
  },
  {
   "cell_type": "code",
   "execution_count": 15,
   "id": "58f4246c",
   "metadata": {},
   "outputs": [
    {
     "name": "stdout",
     "output_type": "stream",
     "text": [
      "tensor([[0., 0.],\n",
      "        [0., 0.]])\n"
     ]
    }
   ],
   "source": [
    "print(x)"
   ]
  },
  {
   "cell_type": "markdown",
   "id": "660e378b",
   "metadata": {},
   "source": [
    "creating tensor of ones"
   ]
  },
  {
   "cell_type": "code",
   "execution_count": 16,
   "id": "55dc4719",
   "metadata": {},
   "outputs": [],
   "source": [
    "x=torch.ones(2,2)"
   ]
  },
  {
   "cell_type": "code",
   "execution_count": 17,
   "id": "7449d719",
   "metadata": {},
   "outputs": [
    {
     "name": "stdout",
     "output_type": "stream",
     "text": [
      "tensor([[1., 1.],\n",
      "        [1., 1.]])\n"
     ]
    }
   ],
   "source": [
    "print(x)"
   ]
  },
  {
   "cell_type": "markdown",
   "id": "b165f844",
   "metadata": {},
   "source": [
    "checking data type"
   ]
  },
  {
   "cell_type": "code",
   "execution_count": 18,
   "id": "4129454e",
   "metadata": {},
   "outputs": [
    {
     "name": "stdout",
     "output_type": "stream",
     "text": [
      "torch.float32\n"
     ]
    }
   ],
   "source": [
    "print(x.dtype)"
   ]
  },
  {
   "cell_type": "markdown",
   "id": "cc922abb",
   "metadata": {},
   "source": [
    "defualt datatype is torch.float32, however, at the time of initialization, explicitly datatype can be mentioned"
   ]
  },
  {
   "cell_type": "code",
   "execution_count": 19,
   "id": "62d1aaa7",
   "metadata": {},
   "outputs": [],
   "source": [
    "x=torch.ones(2,2,dtype=int)"
   ]
  },
  {
   "cell_type": "code",
   "execution_count": 20,
   "id": "9cfb9d13",
   "metadata": {},
   "outputs": [
    {
     "name": "stdout",
     "output_type": "stream",
     "text": [
      "tensor([[1, 1],\n",
      "        [1, 1]])\n"
     ]
    }
   ],
   "source": [
    "print(x)"
   ]
  },
  {
   "cell_type": "code",
   "execution_count": 21,
   "id": "bdca9e7a",
   "metadata": {},
   "outputs": [
    {
     "name": "stdout",
     "output_type": "stream",
     "text": [
      "torch.int64\n"
     ]
    }
   ],
   "source": [
    "print(x.dtype)"
   ]
  },
  {
   "cell_type": "markdown",
   "id": "75c602d1",
   "metadata": {},
   "source": [
    "Checking size of tensor"
   ]
  },
  {
   "cell_type": "code",
   "execution_count": 22,
   "id": "39210eff",
   "metadata": {},
   "outputs": [
    {
     "name": "stdout",
     "output_type": "stream",
     "text": [
      "torch.Size([2, 2])\n"
     ]
    }
   ],
   "source": [
    "print(x.size())"
   ]
  },
  {
   "cell_type": "markdown",
   "id": "b339bfc3",
   "metadata": {},
   "source": [
    "craeting tensor with values"
   ]
  },
  {
   "cell_type": "code",
   "execution_count": 23,
   "id": "48455f74",
   "metadata": {},
   "outputs": [],
   "source": [
    "x=torch.tensor([1.2,5.3])"
   ]
  },
  {
   "cell_type": "code",
   "execution_count": 24,
   "id": "9fec62cd",
   "metadata": {},
   "outputs": [
    {
     "name": "stdout",
     "output_type": "stream",
     "text": [
      "tensor([1.2000, 5.3000])\n"
     ]
    }
   ],
   "source": [
    "print(x)"
   ]
  },
  {
   "cell_type": "markdown",
   "id": "ebdb3920",
   "metadata": {},
   "source": [
    "# Basic operations on tensor"
   ]
  },
  {
   "cell_type": "code",
   "execution_count": 25,
   "id": "7aa06aea",
   "metadata": {},
   "outputs": [],
   "source": [
    "x=torch.rand(2,2)\n",
    "y=torch.rand(2,2)"
   ]
  },
  {
   "cell_type": "code",
   "execution_count": 26,
   "id": "73c72ffd",
   "metadata": {},
   "outputs": [
    {
     "name": "stdout",
     "output_type": "stream",
     "text": [
      "tensor([[0.0362, 0.5448],\n",
      "        [0.7214, 0.7905]])\n",
      "tensor([[0.6445, 0.9294],\n",
      "        [0.2557, 0.4762]])\n"
     ]
    }
   ],
   "source": [
    "print(x)\n",
    "print(y)"
   ]
  },
  {
   "cell_type": "code",
   "execution_count": 27,
   "id": "ef974667",
   "metadata": {},
   "outputs": [
    {
     "name": "stdout",
     "output_type": "stream",
     "text": [
      "tensor([[0.6807, 1.4743],\n",
      "        [0.9771, 1.2667]])\n"
     ]
    }
   ],
   "source": [
    "z=x+y\n",
    "print(z)"
   ]
  },
  {
   "cell_type": "code",
   "execution_count": 28,
   "id": "2c4e76d6",
   "metadata": {},
   "outputs": [
    {
     "name": "stdout",
     "output_type": "stream",
     "text": [
      "tensor([[0.6807, 1.4743],\n",
      "        [0.9771, 1.2667]])\n"
     ]
    }
   ],
   "source": [
    "z=torch.add(x,y)\n",
    "print(z)"
   ]
  },
  {
   "cell_type": "markdown",
   "id": "7d2e96eb",
   "metadata": {},
   "source": [
    "inplace addition"
   ]
  },
  {
   "cell_type": "code",
   "execution_count": 29,
   "id": "d5f37199",
   "metadata": {},
   "outputs": [
    {
     "data": {
      "text/plain": [
       "tensor([[0.6807, 1.4743],\n",
       "        [0.9771, 1.2667]])"
      ]
     },
     "execution_count": 29,
     "metadata": {},
     "output_type": "execute_result"
    }
   ],
   "source": [
    "y.add_(x)"
   ]
  },
  {
   "cell_type": "markdown",
   "id": "c0fab734",
   "metadata": {},
   "source": [
    "Note: In Pytorch, the function with trailing \"_\" does inplace operation"
   ]
  },
  {
   "cell_type": "code",
   "execution_count": 30,
   "id": "b48c2ad6",
   "metadata": {},
   "outputs": [
    {
     "name": "stdout",
     "output_type": "stream",
     "text": [
      "tensor([[0.6807, 1.4743],\n",
      "        [0.9771, 1.2667]])\n"
     ]
    }
   ],
   "source": [
    "print(y)"
   ]
  },
  {
   "cell_type": "code",
   "execution_count": 34,
   "id": "a6217635",
   "metadata": {},
   "outputs": [
    {
     "name": "stdout",
     "output_type": "stream",
     "text": [
      "tensor([[-0.6445, -0.9294],\n",
      "        [-0.2557, -0.4762]])\n"
     ]
    }
   ],
   "source": [
    "z=x-y\n",
    "print(z)"
   ]
  },
  {
   "cell_type": "code",
   "execution_count": 35,
   "id": "f1547fb8",
   "metadata": {},
   "outputs": [
    {
     "name": "stdout",
     "output_type": "stream",
     "text": [
      "tensor([[-0.6445, -0.9294],\n",
      "        [-0.2557, -0.4762]])\n"
     ]
    }
   ],
   "source": [
    "z=torch.sub(x,y)\n",
    "print(z)"
   ]
  },
  {
   "cell_type": "code",
   "execution_count": 36,
   "id": "68965aaa",
   "metadata": {},
   "outputs": [
    {
     "name": "stdout",
     "output_type": "stream",
     "text": [
      "tensor([[0.0247, 0.8032],\n",
      "        [0.7049, 1.0014]])\n"
     ]
    }
   ],
   "source": [
    "z=x*y\n",
    "print(z)"
   ]
  },
  {
   "cell_type": "code",
   "execution_count": 37,
   "id": "382fbadb",
   "metadata": {},
   "outputs": [
    {
     "name": "stdout",
     "output_type": "stream",
     "text": [
      "tensor([[0.0247, 0.8032],\n",
      "        [0.7049, 1.0014]])\n"
     ]
    }
   ],
   "source": [
    "z=torch.mul(x,y)\n",
    "print(z)"
   ]
  },
  {
   "cell_type": "code",
   "execution_count": 38,
   "id": "b283ec7f",
   "metadata": {},
   "outputs": [
    {
     "name": "stdout",
     "output_type": "stream",
     "text": [
      "tensor([[0.0532, 0.3696],\n",
      "        [0.7383, 0.6240]])\n"
     ]
    }
   ],
   "source": [
    "z = x/y\n",
    "print(z)"
   ]
  },
  {
   "cell_type": "code",
   "execution_count": 39,
   "id": "6c06891d",
   "metadata": {},
   "outputs": [
    {
     "name": "stdout",
     "output_type": "stream",
     "text": [
      "tensor([[0.0532, 0.3696],\n",
      "        [0.7383, 0.6240]])\n"
     ]
    }
   ],
   "source": [
    "z = torch.div(x,y)\n",
    "print(z)"
   ]
  },
  {
   "cell_type": "markdown",
   "id": "49892a26",
   "metadata": {},
   "source": [
    "# Slicing Operations"
   ]
  },
  {
   "cell_type": "code",
   "execution_count": 41,
   "id": "b8125f4e",
   "metadata": {},
   "outputs": [
    {
     "name": "stdout",
     "output_type": "stream",
     "text": [
      "tensor([[0.5740, 0.2334, 0.9050],\n",
      "        [0.1562, 0.6933, 0.0965],\n",
      "        [0.7046, 0.1343, 0.7489],\n",
      "        [0.9230, 0.3915, 0.5745],\n",
      "        [0.2525, 0.6711, 0.9972]])\n"
     ]
    }
   ],
   "source": [
    "x=torch.rand(5,3)\n",
    "print(x)"
   ]
  },
  {
   "cell_type": "code",
   "execution_count": 42,
   "id": "d6a639d0",
   "metadata": {},
   "outputs": [
    {
     "name": "stdout",
     "output_type": "stream",
     "text": [
      "tensor([0.5740, 0.1562, 0.7046, 0.9230, 0.2525])\n"
     ]
    }
   ],
   "source": [
    "#Select all rows but only first column\n",
    "print(x[:,0])"
   ]
  },
  {
   "cell_type": "code",
   "execution_count": 44,
   "id": "3ab9650c",
   "metadata": {},
   "outputs": [
    {
     "name": "stdout",
     "output_type": "stream",
     "text": [
      "tensor([0.5740, 0.2334, 0.9050])\n"
     ]
    }
   ],
   "source": [
    "#Select first row and all column\n",
    "print(x[0,:])"
   ]
  },
  {
   "cell_type": "code",
   "execution_count": 48,
   "id": "91856dee",
   "metadata": {},
   "outputs": [
    {
     "name": "stdout",
     "output_type": "stream",
     "text": [
      "tensor(0.6933)\n",
      "0.6933351755142212\n"
     ]
    }
   ],
   "source": [
    "#Selecting single element of tensor\n",
    "print(x[1,1])\n",
    "\n",
    "#to get actual value, function item() is used\n",
    "#Please note that, item() works on only single value\n",
    "\n",
    "print(x[1,1].item())"
   ]
  },
  {
   "cell_type": "markdown",
   "id": "86ac8180",
   "metadata": {},
   "source": [
    "# Reshaping the tensor"
   ]
  },
  {
   "cell_type": "code",
   "execution_count": 50,
   "id": "d0f6e0ad",
   "metadata": {},
   "outputs": [
    {
     "name": "stdout",
     "output_type": "stream",
     "text": [
      "tensor([[0.6805, 0.8083, 0.0731, 0.1692],\n",
      "        [0.2103, 0.5523, 0.1910, 0.0973],\n",
      "        [0.4956, 0.9322, 0.9948, 0.3490],\n",
      "        [0.0410, 0.0759, 0.5110, 0.4777]])\n"
     ]
    }
   ],
   "source": [
    "x=torch.rand(4,4)\n",
    "print(x)"
   ]
  },
  {
   "cell_type": "code",
   "execution_count": 51,
   "id": "e4110d4c",
   "metadata": {},
   "outputs": [
    {
     "name": "stdout",
     "output_type": "stream",
     "text": [
      "tensor([0.6805, 0.8083, 0.0731, 0.1692, 0.2103, 0.5523, 0.1910, 0.0973, 0.4956,\n",
      "        0.9322, 0.9948, 0.3490, 0.0410, 0.0759, 0.5110, 0.4777])\n"
     ]
    }
   ],
   "source": [
    "y=x.view(16)\n",
    "print(y)"
   ]
  },
  {
   "cell_type": "code",
   "execution_count": 52,
   "id": "92aec148",
   "metadata": {},
   "outputs": [
    {
     "name": "stdout",
     "output_type": "stream",
     "text": [
      "tensor([[0.6805, 0.8083, 0.0731, 0.1692, 0.2103, 0.5523, 0.1910, 0.0973],\n",
      "        [0.4956, 0.9322, 0.9948, 0.3490, 0.0410, 0.0759, 0.5110, 0.4777]])\n"
     ]
    }
   ],
   "source": [
    "y=x.view(-1,8)\n",
    "print(y)"
   ]
  },
  {
   "cell_type": "code",
   "execution_count": 53,
   "id": "6f56dc3b",
   "metadata": {},
   "outputs": [
    {
     "name": "stdout",
     "output_type": "stream",
     "text": [
      "tensor([[0.6805, 0.8083, 0.0731, 0.1692],\n",
      "        [0.2103, 0.5523, 0.1910, 0.0973],\n",
      "        [0.4956, 0.9322, 0.9948, 0.3490],\n",
      "        [0.0410, 0.0759, 0.5110, 0.4777]])\n"
     ]
    }
   ],
   "source": [
    "y=x.view(-1,4)\n",
    "print(y)"
   ]
  },
  {
   "cell_type": "code",
   "execution_count": 54,
   "id": "05494172",
   "metadata": {},
   "outputs": [
    {
     "ename": "RuntimeError",
     "evalue": "shape '[-1, 5]' is invalid for input of size 16",
     "output_type": "error",
     "traceback": [
      "\u001b[1;31m---------------------------------------------------------------------------\u001b[0m",
      "\u001b[1;31mRuntimeError\u001b[0m                              Traceback (most recent call last)",
      "Cell \u001b[1;32mIn[54], line 1\u001b[0m\n\u001b[1;32m----> 1\u001b[0m y\u001b[38;5;241m=\u001b[39mx\u001b[38;5;241m.\u001b[39mview(\u001b[38;5;241m-\u001b[39m\u001b[38;5;241m1\u001b[39m,\u001b[38;5;241m5\u001b[39m)\n\u001b[0;32m      2\u001b[0m \u001b[38;5;28mprint\u001b[39m(y)\n",
      "\u001b[1;31mRuntimeError\u001b[0m: shape '[-1, 5]' is invalid for input of size 16"
     ]
    }
   ],
   "source": [
    "y=x.view(-1,5)\n",
    "print(y)"
   ]
  },
  {
   "cell_type": "markdown",
   "id": "676e460a",
   "metadata": {},
   "source": [
    "# Converting from tensor to numpy "
   ]
  },
  {
   "cell_type": "code",
   "execution_count": 55,
   "id": "47c53849",
   "metadata": {},
   "outputs": [],
   "source": [
    "import numpy as np"
   ]
  },
  {
   "cell_type": "code",
   "execution_count": 57,
   "id": "8bfde553",
   "metadata": {},
   "outputs": [
    {
     "name": "stdout",
     "output_type": "stream",
     "text": [
      "tensor([1., 1., 1., 1., 1.])\n"
     ]
    }
   ],
   "source": [
    "a=torch.ones(5)\n",
    "print(a)"
   ]
  },
  {
   "cell_type": "code",
   "execution_count": 58,
   "id": "9078c000",
   "metadata": {},
   "outputs": [
    {
     "name": "stdout",
     "output_type": "stream",
     "text": [
      "[1. 1. 1. 1. 1.]\n"
     ]
    }
   ],
   "source": [
    "b=a.numpy()\n",
    "print(b)"
   ]
  },
  {
   "cell_type": "code",
   "execution_count": 59,
   "id": "6f0413da",
   "metadata": {},
   "outputs": [
    {
     "name": "stdout",
     "output_type": "stream",
     "text": [
      "<class 'numpy.ndarray'>\n"
     ]
    }
   ],
   "source": [
    "print(type(b))"
   ]
  },
  {
   "cell_type": "markdown",
   "id": "578e35ff",
   "metadata": {},
   "source": [
    "Note: on cpu, both object share same memory location\n"
   ]
  },
  {
   "cell_type": "code",
   "execution_count": 60,
   "id": "390e1e32",
   "metadata": {},
   "outputs": [
    {
     "data": {
      "text/plain": [
       "tensor([2., 2., 2., 2., 2.])"
      ]
     },
     "execution_count": 60,
     "metadata": {},
     "output_type": "execute_result"
    }
   ],
   "source": [
    "a.add_(1)"
   ]
  },
  {
   "cell_type": "code",
   "execution_count": 61,
   "id": "9a64fafd",
   "metadata": {},
   "outputs": [
    {
     "name": "stdout",
     "output_type": "stream",
     "text": [
      "[2. 2. 2. 2. 2.]\n"
     ]
    }
   ],
   "source": [
    "print(b)"
   ]
  },
  {
   "cell_type": "markdown",
   "id": "8cc05c36",
   "metadata": {},
   "source": [
    "# Converting from numpy to tensor"
   ]
  },
  {
   "cell_type": "code",
   "execution_count": 63,
   "id": "d5ed6870",
   "metadata": {},
   "outputs": [
    {
     "name": "stdout",
     "output_type": "stream",
     "text": [
      "[1. 1. 1. 1. 1.]\n"
     ]
    }
   ],
   "source": [
    "a = np.ones(5)\n",
    "print(a)"
   ]
  },
  {
   "cell_type": "code",
   "execution_count": 64,
   "id": "98f4e86f",
   "metadata": {},
   "outputs": [
    {
     "name": "stdout",
     "output_type": "stream",
     "text": [
      "tensor([1., 1., 1., 1., 1.], dtype=torch.float64)\n"
     ]
    }
   ],
   "source": [
    "b = torch.from_numpy(a)\n",
    "print(b)"
   ]
  },
  {
   "cell_type": "markdown",
   "id": "b643d7bb",
   "metadata": {},
   "source": [
    "Note: on cpu, both object share same memory location"
   ]
  },
  {
   "cell_type": "code",
   "execution_count": 66,
   "id": "a2c92703",
   "metadata": {},
   "outputs": [
    {
     "name": "stdout",
     "output_type": "stream",
     "text": [
      "[2. 2. 2. 2. 2.]\n"
     ]
    }
   ],
   "source": [
    "a += 1\n",
    "print(a)"
   ]
  },
  {
   "cell_type": "code",
   "execution_count": 67,
   "id": "babf2d79",
   "metadata": {},
   "outputs": [
    {
     "name": "stdout",
     "output_type": "stream",
     "text": [
      "tensor([2., 2., 2., 2., 2.], dtype=torch.float64)\n"
     ]
    }
   ],
   "source": [
    "print(b)"
   ]
  },
  {
   "cell_type": "markdown",
   "id": "2166041c",
   "metadata": {},
   "source": [
    "# On gpu"
   ]
  },
  {
   "cell_type": "code",
   "execution_count": 68,
   "id": "53672456",
   "metadata": {},
   "outputs": [
    {
     "data": {
      "text/plain": [
       "False"
      ]
     },
     "execution_count": 68,
     "metadata": {},
     "output_type": "execute_result"
    }
   ],
   "source": [
    "torch.cuda.is_available()"
   ]
  },
  {
   "cell_type": "code",
   "execution_count": 70,
   "id": "4c79d2b5",
   "metadata": {},
   "outputs": [],
   "source": [
    "if torch.cuda.is_available():\n",
    "    device = torch.device(\"cuda\")\n",
    "    x = torch.ones(5, device=device)\n",
    "    y = torch.ones(5)\n",
    "    z = x+y\n",
    "    \n",
    "    #numpy can only handle cpu tensor, not gpu sensor\n",
    "    #z.numpy()\n",
    "    \n",
    "    #We need to move it to cpu in order to use numpy()\n",
    "    z=z.to(\"cpu\")\n",
    "    z.numpy()\n",
    "    "
   ]
  },
  {
   "cell_type": "markdown",
   "id": "ef304e68",
   "metadata": {},
   "source": [
    "# requires_grad"
   ]
  },
  {
   "cell_type": "code",
   "execution_count": 72,
   "id": "ac60fc6d",
   "metadata": {},
   "outputs": [
    {
     "name": "stdout",
     "output_type": "stream",
     "text": [
      "tensor([1., 1., 1., 1., 1.], requires_grad=True)\n"
     ]
    }
   ],
   "source": [
    "x=torch.ones(5, requires_grad=True)\n",
    "print(x)"
   ]
  },
  {
   "cell_type": "code",
   "execution_count": null,
   "id": "0dbac4c7",
   "metadata": {},
   "outputs": [],
   "source": []
  }
 ],
 "metadata": {
  "kernelspec": {
   "display_name": "Python 3 (ipykernel)",
   "language": "python",
   "name": "python3"
  },
  "language_info": {
   "codemirror_mode": {
    "name": "ipython",
    "version": 3
   },
   "file_extension": ".py",
   "mimetype": "text/x-python",
   "name": "python",
   "nbconvert_exporter": "python",
   "pygments_lexer": "ipython3",
   "version": "3.11.5"
  }
 },
 "nbformat": 4,
 "nbformat_minor": 5
}
