{
 "cells": [
  {
   "cell_type": "code",
   "execution_count": 1,
   "id": "b85cae1a",
   "metadata": {},
   "outputs": [],
   "source": [
    "import torch\n",
    "\n",
    "#Input array\n",
    "X=torch.tensor([1,2,3,4], dtype=torch.float32)\n",
    "\n",
    "#Output array\n",
    "Y=torch.tensor([2,4,6,8], dtype=torch.float32)"
   ]
  },
  {
   "cell_type": "code",
   "execution_count": 2,
   "id": "9e370458",
   "metadata": {},
   "outputs": [],
   "source": [
    "#Initialize weight\n",
    "#w=0.0\n",
    "w=torch.tensor(0.0, dtype=torch.float32, requires_grad=True)"
   ]
  },
  {
   "cell_type": "code",
   "execution_count": 3,
   "id": "bcb4c8d0",
   "metadata": {},
   "outputs": [],
   "source": [
    "#Model prediction\n",
    "def forward(x):\n",
    "    return w*x"
   ]
  },
  {
   "cell_type": "code",
   "execution_count": 4,
   "id": "66776555",
   "metadata": {},
   "outputs": [],
   "source": [
    "#Loss = MSE\n",
    "def loss(y, y_predicted):\n",
    "    return ((y_predicted-y)**2).mean()"
   ]
  },
  {
   "cell_type": "code",
   "execution_count": 5,
   "id": "008d4292",
   "metadata": {},
   "outputs": [],
   "source": [
    "#Gradient\n",
    "#MSE = 1/N * (w*x-y) **2\n",
    "#derivative d MSE/ dw = 1/N * 2x * (wx-y)\n",
    "\n",
    "#def gradient(x,y,y_predicted):\n",
    "#    return np.dot(2*x, y_predicted-y).mean()"
   ]
  },
  {
   "cell_type": "code",
   "execution_count": 6,
   "id": "77d04ed3",
   "metadata": {},
   "outputs": [
    {
     "name": "stdout",
     "output_type": "stream",
     "text": [
      "prediction before training: f(5) = 0.000\n"
     ]
    }
   ],
   "source": [
    "print(f'prediction before training: f(5) = {forward(5):.3f}')"
   ]
  },
  {
   "cell_type": "code",
   "execution_count": 7,
   "id": "9a1867c7",
   "metadata": {},
   "outputs": [
    {
     "name": "stdout",
     "output_type": "stream",
     "text": [
      "epoch 1: w=0.300, loss = 30.00000000\n",
      "epoch 2: w=0.555, loss = 21.67499924\n",
      "epoch 3: w=0.772, loss = 15.66018772\n",
      "epoch 4: w=0.956, loss = 11.31448650\n",
      "epoch 5: w=1.113, loss = 8.17471695\n",
      "epoch 6: w=1.246, loss = 5.90623236\n",
      "epoch 7: w=1.359, loss = 4.26725292\n",
      "epoch 8: w=1.455, loss = 3.08308983\n",
      "epoch 9: w=1.537, loss = 2.22753215\n",
      "epoch 10: w=1.606, loss = 1.60939169\n",
      "epoch 11: w=1.665, loss = 1.16278565\n",
      "epoch 12: w=1.716, loss = 0.84011245\n",
      "epoch 13: w=1.758, loss = 0.60698116\n",
      "epoch 14: w=1.794, loss = 0.43854395\n",
      "epoch 15: w=1.825, loss = 0.31684780\n",
      "epoch 16: w=1.851, loss = 0.22892261\n",
      "epoch 17: w=1.874, loss = 0.16539653\n",
      "epoch 18: w=1.893, loss = 0.11949898\n",
      "epoch 19: w=1.909, loss = 0.08633806\n",
      "epoch 20: w=1.922, loss = 0.06237914\n",
      "prediction after training: f(5) = 9.612\n"
     ]
    }
   ],
   "source": [
    "#Training\n",
    "learning_rate=0.01\n",
    "n_iters=20\n",
    "\n",
    "for epoch in range(n_iters):\n",
    "    #prediction\n",
    "    y_pred = forward(X)\n",
    "    \n",
    "    #loss\n",
    "    l = loss(Y, y_pred)\n",
    "    \n",
    "    #gradients = backward pass\n",
    "    l.backward() #dl/dw\n",
    "    \n",
    "    #update weights\n",
    "    with torch.no_grad():\n",
    "        w -= learning_rate * w.grad # negative sign ensures, opposite direction of gradient\n",
    "        #w = w- learning_rate * w.grad # negative sign ensures, opposite direction of gradient\n",
    "                                      #THIS Didn't WORK\n",
    "    \n",
    "    #zero gradients\n",
    "    w.grad.zero_()\n",
    "    \n",
    "    if epoch %1 ==0:\n",
    "        print(f'epoch {epoch+1}: w={w:.3f}, loss = {l:.8f}')\n",
    "        \n",
    "print(f'prediction after training: f(5) = {forward(5):.3f}')"
   ]
  },
  {
   "cell_type": "code",
   "execution_count": null,
   "id": "4903ea26",
   "metadata": {},
   "outputs": [],
   "source": []
  }
 ],
 "metadata": {
  "kernelspec": {
   "display_name": "Python 3 (ipykernel)",
   "language": "python",
   "name": "python3"
  },
  "language_info": {
   "codemirror_mode": {
    "name": "ipython",
    "version": 3
   },
   "file_extension": ".py",
   "mimetype": "text/x-python",
   "name": "python",
   "nbconvert_exporter": "python",
   "pygments_lexer": "ipython3",
   "version": "3.11.5"
  }
 },
 "nbformat": 4,
 "nbformat_minor": 5
}
