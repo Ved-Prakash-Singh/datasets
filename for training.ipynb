{
 "cells": [
  {
   "cell_type": "code",
   "execution_count": 1,
   "id": "3e03bbba",
   "metadata": {},
   "outputs": [
    {
     "name": "stderr",
     "output_type": "stream",
     "text": [
      "[nltk_data] Downloading package punkt to\n",
      "[nltk_data]     C:\\Users\\Ved\\AppData\\Roaming\\nltk_data...\n",
      "[nltk_data]   Package punkt is already up-to-date!\n"
     ]
    },
    {
     "data": {
      "text/plain": [
       "True"
      ]
     },
     "execution_count": 1,
     "metadata": {},
     "output_type": "execute_result"
    }
   ],
   "source": [
    "# Tokenization of paragraphs/sentences\n",
    "import nltk\n",
    "nltk.download('punkt')"
   ]
  },
  {
   "cell_type": "code",
   "execution_count": 2,
   "id": "af8a411b",
   "metadata": {},
   "outputs": [],
   "source": [
    "paragraph = \"\"\"I have three visions for India. In 3000 years of our history, people from all over \n",
    "               the world have come and invaded us, captured our lands, conquered our minds. \n",
    "               From Alexander onwards, the Greeks, the Turks, the Moguls, the Portuguese, the British,\n",
    "               the French, the Dutch, all of them came and looted us, took over what was ours. \n",
    "               Yet we have not done this to any other nation. We have not conquered anyone. \n",
    "               We have not grabbed their land, their culture, \n",
    "               their history and tried to enforce our way of life on them. \n",
    "               Why? Because we respect the freedom of others.That is why my \n",
    "               first vision is that of freedom. I believe that India got its first vision of \n",
    "               this in 1857, when we started the War of Independence. It is this freedom that\n",
    "               we must protect and nurture and build on. If we are not free, no one will respect us.\n",
    "               My second vision for India’s development. For fifty years we have been a developing nation.\n",
    "               It is time we see ourselves as a developed nation. We are among the top 5 nations of the world\n",
    "               in terms of GDP. We have a 10 percent growth rate in most areas. Our poverty levels are falling.\n",
    "               Our achievements are being globally recognised today. Yet we lack the self-confidence to\n",
    "               see ourselves as a developed nation, self-reliant and self-assured. Isn’t this incorrect?\n",
    "               I have a third vision. India must stand up to the world. Because I believe that unless India \n",
    "               stands up to the world, no one will respect us. Only strength respects strength. We must be \n",
    "               strong not only as a military power but also as an economic power. Both must go hand-in-hand. \n",
    "               My good fortune was to have worked with three great minds. Dr. Vikram Sarabhai of the Dept. of \n",
    "               space, Professor Satish Dhawan, who succeeded him and Dr. Brahm Prakash, father of nuclear material.\n",
    "               I was lucky to have worked with all three of them closely and consider this the great opportunity of my life. \n",
    "               I see four milestones in my career\"\"\""
   ]
  },
  {
   "cell_type": "code",
   "execution_count": 3,
   "id": "d111722a",
   "metadata": {},
   "outputs": [],
   "source": [
    "sentences = nltk.sent_tokenize(paragraph)"
   ]
  },
  {
   "cell_type": "code",
   "execution_count": 4,
   "id": "4e692b2a",
   "metadata": {},
   "outputs": [
    {
     "name": "stdout",
     "output_type": "stream",
     "text": [
      "['I have three visions for India.', 'In 3000 years of our history, people from all over \\n               the world have come and invaded us, captured our lands, conquered our minds.', 'From Alexander onwards, the Greeks, the Turks, the Moguls, the Portuguese, the British,\\n               the French, the Dutch, all of them came and looted us, took over what was ours.', 'Yet we have not done this to any other nation.', 'We have not conquered anyone.', 'We have not grabbed their land, their culture, \\n               their history and tried to enforce our way of life on them.', 'Why?', 'Because we respect the freedom of others.That is why my \\n               first vision is that of freedom.', 'I believe that India got its first vision of \\n               this in 1857, when we started the War of Independence.', 'It is this freedom that\\n               we must protect and nurture and build on.', 'If we are not free, no one will respect us.', 'My second vision for India’s development.', 'For fifty years we have been a developing nation.', 'It is time we see ourselves as a developed nation.', 'We are among the top 5 nations of the world\\n               in terms of GDP.', 'We have a 10 percent growth rate in most areas.', 'Our poverty levels are falling.', 'Our achievements are being globally recognised today.', 'Yet we lack the self-confidence to\\n               see ourselves as a developed nation, self-reliant and self-assured.', 'Isn’t this incorrect?', 'I have a third vision.', 'India must stand up to the world.', 'Because I believe that unless India \\n               stands up to the world, no one will respect us.', 'Only strength respects strength.', 'We must be \\n               strong not only as a military power but also as an economic power.', 'Both must go hand-in-hand.', 'My good fortune was to have worked with three great minds.', 'Dr. Vikram Sarabhai of the Dept.', 'of \\n               space, Professor Satish Dhawan, who succeeded him and Dr. Brahm Prakash, father of nuclear material.', 'I was lucky to have worked with all three of them closely and consider this the great opportunity of my life.', 'I see four milestones in my career']\n"
     ]
    }
   ],
   "source": [
    "print(sentences)"
   ]
  },
  {
   "cell_type": "code",
   "execution_count": 5,
   "id": "41bd012c",
   "metadata": {},
   "outputs": [],
   "source": [
    "words = nltk.word_tokenize(paragraph)"
   ]
  },
  {
   "cell_type": "code",
   "execution_count": 6,
   "id": "317a1784",
   "metadata": {},
   "outputs": [
    {
     "name": "stdout",
     "output_type": "stream",
     "text": [
      "['I', 'have', 'three', 'visions', 'for', 'India', '.', 'In', '3000', 'years', 'of', 'our', 'history', ',', 'people', 'from', 'all', 'over', 'the', 'world', 'have', 'come', 'and', 'invaded', 'us', ',', 'captured', 'our', 'lands', ',', 'conquered', 'our', 'minds', '.', 'From', 'Alexander', 'onwards', ',', 'the', 'Greeks', ',', 'the', 'Turks', ',', 'the', 'Moguls', ',', 'the', 'Portuguese', ',', 'the', 'British', ',', 'the', 'French', ',', 'the', 'Dutch', ',', 'all', 'of', 'them', 'came', 'and', 'looted', 'us', ',', 'took', 'over', 'what', 'was', 'ours', '.', 'Yet', 'we', 'have', 'not', 'done', 'this', 'to', 'any', 'other', 'nation', '.', 'We', 'have', 'not', 'conquered', 'anyone', '.', 'We', 'have', 'not', 'grabbed', 'their', 'land', ',', 'their', 'culture', ',', 'their', 'history', 'and', 'tried', 'to', 'enforce', 'our', 'way', 'of', 'life', 'on', 'them', '.', 'Why', '?', 'Because', 'we', 'respect', 'the', 'freedom', 'of', 'others.That', 'is', 'why', 'my', 'first', 'vision', 'is', 'that', 'of', 'freedom', '.', 'I', 'believe', 'that', 'India', 'got', 'its', 'first', 'vision', 'of', 'this', 'in', '1857', ',', 'when', 'we', 'started', 'the', 'War', 'of', 'Independence', '.', 'It', 'is', 'this', 'freedom', 'that', 'we', 'must', 'protect', 'and', 'nurture', 'and', 'build', 'on', '.', 'If', 'we', 'are', 'not', 'free', ',', 'no', 'one', 'will', 'respect', 'us', '.', 'My', 'second', 'vision', 'for', 'India', '’', 's', 'development', '.', 'For', 'fifty', 'years', 'we', 'have', 'been', 'a', 'developing', 'nation', '.', 'It', 'is', 'time', 'we', 'see', 'ourselves', 'as', 'a', 'developed', 'nation', '.', 'We', 'are', 'among', 'the', 'top', '5', 'nations', 'of', 'the', 'world', 'in', 'terms', 'of', 'GDP', '.', 'We', 'have', 'a', '10', 'percent', 'growth', 'rate', 'in', 'most', 'areas', '.', 'Our', 'poverty', 'levels', 'are', 'falling', '.', 'Our', 'achievements', 'are', 'being', 'globally', 'recognised', 'today', '.', 'Yet', 'we', 'lack', 'the', 'self-confidence', 'to', 'see', 'ourselves', 'as', 'a', 'developed', 'nation', ',', 'self-reliant', 'and', 'self-assured', '.', 'Isn', '’', 't', 'this', 'incorrect', '?', 'I', 'have', 'a', 'third', 'vision', '.', 'India', 'must', 'stand', 'up', 'to', 'the', 'world', '.', 'Because', 'I', 'believe', 'that', 'unless', 'India', 'stands', 'up', 'to', 'the', 'world', ',', 'no', 'one', 'will', 'respect', 'us', '.', 'Only', 'strength', 'respects', 'strength', '.', 'We', 'must', 'be', 'strong', 'not', 'only', 'as', 'a', 'military', 'power', 'but', 'also', 'as', 'an', 'economic', 'power', '.', 'Both', 'must', 'go', 'hand-in-hand', '.', 'My', 'good', 'fortune', 'was', 'to', 'have', 'worked', 'with', 'three', 'great', 'minds', '.', 'Dr.', 'Vikram', 'Sarabhai', 'of', 'the', 'Dept', '.', 'of', 'space', ',', 'Professor', 'Satish', 'Dhawan', ',', 'who', 'succeeded', 'him', 'and', 'Dr.', 'Brahm', 'Prakash', ',', 'father', 'of', 'nuclear', 'material', '.', 'I', 'was', 'lucky', 'to', 'have', 'worked', 'with', 'all', 'three', 'of', 'them', 'closely', 'and', 'consider', 'this', 'the', 'great', 'opportunity', 'of', 'my', 'life', '.', 'I', 'see', 'four', 'milestones', 'in', 'my', 'career']\n"
     ]
    }
   ],
   "source": [
    "print(words)"
   ]
  },
  {
   "cell_type": "markdown",
   "id": "6d096d9f",
   "metadata": {},
   "source": [
    "# Stemming"
   ]
  },
  {
   "cell_type": "code",
   "execution_count": 8,
   "id": "2efeacb9",
   "metadata": {},
   "outputs": [],
   "source": [
    "import nltk\n",
    "from nltk.stem import PorterStemmer\n",
    "from nltk.corpus import stopwords"
   ]
  },
  {
   "cell_type": "code",
   "execution_count": 9,
   "id": "e30155e8",
   "metadata": {},
   "outputs": [],
   "source": [
    "paragraph = \"\"\"I have three visions for India. In 3000 years of our history, people from all over \n",
    "               the world have come and invaded us, captured our lands, conquered our minds. \n",
    "               From Alexander onwards, the Greeks, the Turks, the Moguls, the Portuguese, the British,\n",
    "               the French, the Dutch, all of them came and looted us, took over what was ours. \n",
    "               Yet we have not done this to any other nation. We have not conquered anyone. \n",
    "               We have not grabbed their land, their culture, \n",
    "               their history and tried to enforce our way of life on them. \n",
    "               Why? Because we respect the freedom of others.That is why my \n",
    "               first vision is that of freedom. I believe that India got its first vision of \n",
    "               this in 1857, when we started the War of Independence. It is this freedom that\n",
    "               we must protect and nurture and build on. If we are not free, no one will respect us.\n",
    "               My second vision for India’s development. For fifty years we have been a developing nation.\n",
    "               It is time we see ourselves as a developed nation. We are among the top 5 nations of the world\n",
    "               in terms of GDP. We have a 10 percent growth rate in most areas. Our poverty levels are falling.\n",
    "               Our achievements are being globally recognised today. Yet we lack the self-confidence to\n",
    "               see ourselves as a developed nation, self-reliant and self-assured. Isn’t this incorrect?\n",
    "               I have a third vision. India must stand up to the world. Because I believe that unless India \n",
    "               stands up to the world, no one will respect us. Only strength respects strength. We must be \n",
    "               strong not only as a military power but also as an economic power. Both must go hand-in-hand. \n",
    "               My good fortune was to have worked with three great minds. Dr. Vikram Sarabhai of the Dept. of \n",
    "               space, Professor Satish Dhawan, who succeeded him and Dr. Brahm Prakash, father of nuclear material.\n",
    "               I was lucky to have worked with all three of them closely and consider this the great opportunity of my life. \n",
    "               I see four milestones in my career\"\"\""
   ]
  },
  {
   "cell_type": "code",
   "execution_count": 10,
   "id": "12859a23",
   "metadata": {},
   "outputs": [],
   "source": [
    "sentences = nltk.sent_tokenize(paragraph)"
   ]
  },
  {
   "cell_type": "code",
   "execution_count": 11,
   "id": "17f17125",
   "metadata": {},
   "outputs": [],
   "source": [
    "stemmer = PorterStemmer()"
   ]
  },
  {
   "cell_type": "code",
   "execution_count": 12,
   "id": "aa04c81f",
   "metadata": {},
   "outputs": [
    {
     "name": "stderr",
     "output_type": "stream",
     "text": [
      "[nltk_data] Downloading package stopwords to\n",
      "[nltk_data]     C:\\Users\\Ved\\AppData\\Roaming\\nltk_data...\n",
      "[nltk_data]   Package stopwords is already up-to-date!\n"
     ]
    },
    {
     "data": {
      "text/plain": [
       "True"
      ]
     },
     "execution_count": 12,
     "metadata": {},
     "output_type": "execute_result"
    }
   ],
   "source": [
    "nltk.download('stopwords')"
   ]
  },
  {
   "cell_type": "code",
   "execution_count": 13,
   "id": "64497216",
   "metadata": {},
   "outputs": [],
   "source": [
    "# Stemming\n",
    "for i in range(len(sentences)):\n",
    "    words = nltk.word_tokenize(sentences[i])\n",
    "    words = [stemmer.stem(word) for word in words if word not in set(stopwords.words('english'))]\n",
    "    sentences[i] = ' '.join(words)  "
   ]
  },
  {
   "cell_type": "code",
   "execution_count": 14,
   "id": "ea48624e",
   "metadata": {},
   "outputs": [
    {
     "name": "stdout",
     "output_type": "stream",
     "text": [
      "['i three vision india .', 'in 3000 year histori , peopl world come invad us , captur land , conquer mind .', 'from alexand onward , greek , turk , mogul , portugues , british , french , dutch , came loot us , took .', 'yet done nation .', 'we conquer anyon .', 'we grab land , cultur , histori tri enforc way life .', 'whi ?', 'becaus respect freedom others.that first vision freedom .', 'i believ india got first vision 1857 , start war independ .', 'it freedom must protect nurtur build .', 'if free , one respect us .', 'my second vision india ’ develop .', 'for fifti year develop nation .', 'it time see develop nation .', 'we among top 5 nation world term gdp .', 'we 10 percent growth rate area .', 'our poverti level fall .', 'our achiev global recognis today .', 'yet lack self-confid see develop nation , self-reli self-assur .', 'isn ’ incorrect ?', 'i third vision .', 'india must stand world .', 'becaus i believ unless india stand world , one respect us .', 'onli strength respect strength .', 'we must strong militari power also econom power .', 'both must go hand-in-hand .', 'my good fortun work three great mind .', 'dr. vikram sarabhai dept .', 'space , professor satish dhawan , succeed dr. brahm prakash , father nuclear materi .', 'i lucki work three close consid great opportun life .', 'i see four mileston career']\n"
     ]
    }
   ],
   "source": [
    "print(sentences)"
   ]
  },
  {
   "cell_type": "markdown",
   "id": "2fa387e9",
   "metadata": {},
   "source": [
    "# Lemmatization"
   ]
  },
  {
   "cell_type": "code",
   "execution_count": 15,
   "id": "2f0e3af0",
   "metadata": {},
   "outputs": [],
   "source": [
    "import nltk\n",
    "from nltk.stem import WordNetLemmatizer\n",
    "from nltk.corpus import stopwords"
   ]
  },
  {
   "cell_type": "code",
   "execution_count": 21,
   "id": "ad83cc5f",
   "metadata": {},
   "outputs": [],
   "source": [
    "paragraph = \"\"\"I have three visions for India. In 3000 years of our history, people from all over \n",
    "               the world have come and invaded us, captured our lands, conquered our minds. \n",
    "               From Alexander onwards, the Greeks, the Turks, the Moguls, the Portuguese, the British,\n",
    "               the French, the Dutch, all of them came and looted us, took over what was ours. \n",
    "               Yet we have not done this to any other nation. We have not conquered anyone. \n",
    "               We have not grabbed their land, their culture, \n",
    "               their history and tried to enforce our way of life on them. \n",
    "               Why? Because we respect the freedom of others.That is why my \n",
    "               first vision is that of freedom. I believe that India got its first vision of \n",
    "               this in 1857, when we started the War of Independence. It is this freedom that\n",
    "               we must protect and nurture and build on. If we are not free, no one will respect us.\n",
    "               My second vision for India’s development. For fifty years we have been a developing nation.\n",
    "               It is time we see ourselves as a developed nation. We are among the top 5 nations of the world\n",
    "               in terms of GDP. We have a 10 percent growth rate in most areas. Our poverty levels are falling.\n",
    "               Our achievements are being globally recognised today. Yet we lack the self-confidence to\n",
    "               see ourselves as a developed nation, self-reliant and self-assured. Isn’t this incorrect?\n",
    "               I have a third vision. India must stand up to the world. Because I believe that unless India \n",
    "               stands up to the world, no one will respect us. Only strength respects strength. We must be \n",
    "               strong not only as a military power but also as an economic power. Both must go hand-in-hand. \n",
    "               My good fortune was to have worked with three great minds. Dr. Vikram Sarabhai of the Dept. of \n",
    "               space, Professor Satish Dhawan, who succeeded him and Dr. Brahm Prakash, father of nuclear material.\n",
    "               I was lucky to have worked with all three of them closely and consider this the great opportunity of my life. \n",
    "               I see four milestones in my career\"\"\""
   ]
  },
  {
   "cell_type": "code",
   "execution_count": 22,
   "id": "7043881b",
   "metadata": {},
   "outputs": [],
   "source": [
    "sentences = nltk.sent_tokenize(paragraph)\n",
    "lemmatizer = WordNetLemmatizer()"
   ]
  },
  {
   "cell_type": "code",
   "execution_count": 23,
   "id": "850337d9",
   "metadata": {},
   "outputs": [
    {
     "name": "stderr",
     "output_type": "stream",
     "text": [
      "[nltk_data] Downloading package wordnet to\n",
      "[nltk_data]     C:\\Users\\Ved\\AppData\\Roaming\\nltk_data...\n",
      "[nltk_data]   Package wordnet is already up-to-date!\n"
     ]
    },
    {
     "data": {
      "text/plain": [
       "True"
      ]
     },
     "execution_count": 23,
     "metadata": {},
     "output_type": "execute_result"
    }
   ],
   "source": [
    "nltk.download('wordnet')"
   ]
  },
  {
   "cell_type": "code",
   "execution_count": 24,
   "id": "5b0cba5a",
   "metadata": {},
   "outputs": [],
   "source": [
    "# Lemmatization\n",
    "for i in range(len(sentences)):\n",
    "    words = nltk.word_tokenize(sentences[i])\n",
    "    words = [lemmatizer.lemmatize(word) for word in words if word not in set(stopwords.words('english'))]\n",
    "    sentences[i] = ' '.join(words)  "
   ]
  },
  {
   "cell_type": "code",
   "execution_count": 25,
   "id": "56f99efb",
   "metadata": {},
   "outputs": [
    {
     "name": "stdout",
     "output_type": "stream",
     "text": [
      "['I three vision India .', 'In 3000 year history , people world come invaded u , captured land , conquered mind .', 'From Alexander onwards , Greeks , Turks , Moguls , Portuguese , British , French , Dutch , came looted u , took .', 'Yet done nation .', 'We conquered anyone .', 'We grabbed land , culture , history tried enforce way life .', 'Why ?', 'Because respect freedom others.That first vision freedom .', 'I believe India got first vision 1857 , started War Independence .', 'It freedom must protect nurture build .', 'If free , one respect u .', 'My second vision India ’ development .', 'For fifty year developing nation .', 'It time see developed nation .', 'We among top 5 nation world term GDP .', 'We 10 percent growth rate area .', 'Our poverty level falling .', 'Our achievement globally recognised today .', 'Yet lack self-confidence see developed nation , self-reliant self-assured .', 'Isn ’ incorrect ?', 'I third vision .', 'India must stand world .', 'Because I believe unless India stand world , one respect u .', 'Only strength respect strength .', 'We must strong military power also economic power .', 'Both must go hand-in-hand .', 'My good fortune worked three great mind .', 'Dr. Vikram Sarabhai Dept .', 'space , Professor Satish Dhawan , succeeded Dr. Brahm Prakash , father nuclear material .', 'I lucky worked three closely consider great opportunity life .', 'I see four milestone career']\n"
     ]
    }
   ],
   "source": [
    "print(sentences)"
   ]
  },
  {
   "cell_type": "markdown",
   "id": "0419bb26",
   "metadata": {},
   "source": [
    "# Bag of Words"
   ]
  },
  {
   "cell_type": "code",
   "execution_count": 26,
   "id": "5b642064",
   "metadata": {},
   "outputs": [],
   "source": [
    "import nltk\n",
    "# Cleaning the texts\n",
    "import re\n",
    "from nltk.corpus import stopwords\n",
    "from nltk.stem.porter import PorterStemmer\n",
    "from nltk.stem import WordNetLemmatizer"
   ]
  },
  {
   "cell_type": "code",
   "execution_count": 27,
   "id": "c8c96537",
   "metadata": {},
   "outputs": [],
   "source": [
    "paragraph =  \"\"\"I have three visions for India. In 3000 years of our history, people from all over \n",
    "               the world have come and invaded us, captured our lands, conquered our minds. \n",
    "               From Alexander onwards, the Greeks, the Turks, the Moguls, the Portuguese, the British,\n",
    "               the French, the Dutch, all of them came and looted us, took over what was ours. \n",
    "               Yet we have not done this to any other nation. We have not conquered anyone. \n",
    "               We have not grabbed their land, their culture, \n",
    "               their history and tried to enforce our way of life on them. \n",
    "               Why? Because we respect the freedom of others.That is why my \n",
    "               first vision is that of freedom. I believe that India got its first vision of \n",
    "               this in 1857, when we started the War of Independence. It is this freedom that\n",
    "               we must protect and nurture and build on. If we are not free, no one will respect us.\n",
    "               My second vision for India’s development. For fifty years we have been a developing nation.\n",
    "               It is time we see ourselves as a developed nation. We are among the top 5 nations of the world\n",
    "               in terms of GDP. We have a 10 percent growth rate in most areas. Our poverty levels are falling.\n",
    "               Our achievements are being globally recognised today. Yet we lack the self-confidence to\n",
    "               see ourselves as a developed nation, self-reliant and self-assured. Isn’t this incorrect?\n",
    "               I have a third vision. India must stand up to the world. Because I believe that unless India \n",
    "               stands up to the world, no one will respect us. Only strength respects strength. We must be \n",
    "               strong not only as a military power but also as an economic power. Both must go hand-in-hand. \n",
    "               My good fortune was to have worked with three great minds. Dr. Vikram Sarabhai of the Dept. of \n",
    "               space, Professor Satish Dhawan, who succeeded him and Dr. Brahm Prakash, father of nuclear material.\n",
    "               I was lucky to have worked with all three of them closely and consider this the great opportunity of my life. \n",
    "               I see four milestones in my career\"\"\""
   ]
  },
  {
   "cell_type": "code",
   "execution_count": 120,
   "id": "820c78d0",
   "metadata": {},
   "outputs": [],
   "source": []
  },
  {
   "cell_type": "code",
   "execution_count": 121,
   "id": "e4946da0",
   "metadata": {},
   "outputs": [],
   "source": [
    "ps = PorterStemmer()\n",
    "wordnet=WordNetLemmatizer()\n",
    "sentences = nltk.sent_tokenize(paragraph)\n",
    "corpus = []\n",
    "for i in range(len(sentences)):\n",
    "    review = re.sub('[^a-zA-Z]', ' ', sentences[i])\n",
    "    review = review.lower()\n",
    "    review = review.split()\n",
    "    review = [ps.stem(word) for word in review if not word in set(stopwords.words('english'))]\n",
    "    review = ' '.join(review)\n",
    "    corpus.append(review)"
   ]
  },
  {
   "cell_type": "code",
   "execution_count": 122,
   "id": "596a40b8",
   "metadata": {},
   "outputs": [
    {
     "name": "stdout",
     "output_type": "stream",
     "text": [
      "['three vision india', 'year histori peopl world come invad us captur land conquer mind', 'alexand onward greek turk mogul portugues british french dutch came loot us took', 'yet done nation', 'conquer anyon', 'grab land cultur histori tri enforc way life', '', 'respect freedom other first vision freedom', 'believ india got first vision start war independ', 'freedom must protect nurtur build', 'free one respect us', 'second vision india develop', 'fifti year develop nation', 'time see develop nation', 'among top nation world term gdp', 'percent growth rate area', 'poverti level fall', 'achiev global recognis today', 'yet lack self confid see develop nation self reliant self assur', 'incorrect', 'third vision', 'india must stand world', 'believ unless india stand world one respect us', 'strength respect strength', 'must strong militari power also econom power', 'must go hand hand', 'good fortun work three great mind', 'dr vikram sarabhai dept', 'space professor satish dhawan succeed dr brahm prakash father nuclear materi', 'lucki work three close consid great opportun life', 'see four mileston career']\n"
     ]
    }
   ],
   "source": [
    "print(corpus)"
   ]
  },
  {
   "cell_type": "code",
   "execution_count": 123,
   "id": "728c014b",
   "metadata": {},
   "outputs": [
    {
     "data": {
      "text/plain": [
       "31"
      ]
     },
     "execution_count": 123,
     "metadata": {},
     "output_type": "execute_result"
    }
   ],
   "source": [
    "len(corpus)"
   ]
  },
  {
   "cell_type": "code",
   "execution_count": 124,
   "id": "ff61d7f1",
   "metadata": {},
   "outputs": [],
   "source": [
    "unique_words = []\n",
    "for sentence in corpus:\n",
    "    for word in sentence.split():\n",
    "        if word not in unique_words:\n",
    "            unique_words.append(word)"
   ]
  },
  {
   "cell_type": "code",
   "execution_count": 125,
   "id": "7ee45a3e",
   "metadata": {},
   "outputs": [
    {
     "data": {
      "text/plain": [
       "113"
      ]
     },
     "execution_count": 125,
     "metadata": {},
     "output_type": "execute_result"
    }
   ],
   "source": [
    "len(unique_words)"
   ]
  },
  {
   "cell_type": "code",
   "execution_count": 126,
   "id": "d2f9c8be",
   "metadata": {},
   "outputs": [],
   "source": [
    "# Creating the Bag of Words model\n",
    "from sklearn.feature_extraction.text import CountVectorizer\n",
    "cv = CountVectorizer(max_features = 1500)\n",
    "X = cv.fit_transform(corpus).toarray()\n"
   ]
  },
  {
   "cell_type": "code",
   "execution_count": 127,
   "id": "a38c335e",
   "metadata": {},
   "outputs": [
    {
     "data": {
      "text/plain": [
       "(31, 113)"
      ]
     },
     "execution_count": 127,
     "metadata": {},
     "output_type": "execute_result"
    }
   ],
   "source": [
    "X.shape"
   ]
  },
  {
   "cell_type": "code",
   "execution_count": 128,
   "id": "2fe926aa",
   "metadata": {},
   "outputs": [
    {
     "data": {
      "text/plain": [
       "array([0, 0, 0, 0, 0, 0, 0, 0, 0, 0, 0, 0, 0, 0, 0, 0, 0, 0, 0, 0, 0, 0,\n",
       "       0, 0, 0, 0, 0, 0, 0, 0, 0, 0, 0, 0, 0, 0, 0, 0, 0, 0, 0, 0, 0, 0,\n",
       "       0, 0, 0, 0, 0, 0, 1, 0, 0, 0, 0, 0, 0, 0, 0, 0, 0, 0, 0, 0, 0, 0,\n",
       "       0, 0, 0, 0, 0, 0, 0, 0, 0, 0, 0, 0, 0, 0, 0, 0, 0, 0, 0, 0, 0, 0,\n",
       "       0, 0, 0, 0, 0, 0, 0, 0, 1, 0, 0, 0, 0, 0, 0, 0, 0, 0, 1, 0, 0, 0,\n",
       "       0, 0, 0], dtype=int64)"
      ]
     },
     "execution_count": 128,
     "metadata": {},
     "output_type": "execute_result"
    }
   ],
   "source": [
    "X[0]"
   ]
  },
  {
   "cell_type": "code",
   "execution_count": 129,
   "id": "e635b9db",
   "metadata": {},
   "outputs": [
    {
     "data": {
      "text/plain": [
       "array(['achiev', 'alexand', 'also', 'among', 'anyon', 'area', 'assur',\n",
       "       'believ', 'brahm', 'british', 'build', 'came', 'captur', 'career',\n",
       "       'close', 'come', 'confid', 'conquer', 'consid', 'cultur', 'dept',\n",
       "       'develop', 'dhawan', 'done', 'dr', 'dutch', 'econom', 'enforc',\n",
       "       'fall', 'father', 'fifti', 'first', 'fortun', 'four', 'free',\n",
       "       'freedom', 'french', 'gdp', 'global', 'go', 'good', 'got', 'grab',\n",
       "       'great', 'greek', 'growth', 'hand', 'histori', 'incorrect',\n",
       "       'independ', 'india', 'invad', 'lack', 'land', 'level', 'life',\n",
       "       'loot', 'lucki', 'materi', 'mileston', 'militari', 'mind', 'mogul',\n",
       "       'must', 'nation', 'nuclear', 'nurtur', 'one', 'onward', 'opportun',\n",
       "       'other', 'peopl', 'percent', 'portugues', 'poverti', 'power',\n",
       "       'prakash', 'professor', 'protect', 'rate', 'recognis', 'reliant',\n",
       "       'respect', 'sarabhai', 'satish', 'second', 'see', 'self', 'space',\n",
       "       'stand', 'start', 'strength', 'strong', 'succeed', 'term', 'third',\n",
       "       'three', 'time', 'today', 'took', 'top', 'tri', 'turk', 'unless',\n",
       "       'us', 'vikram', 'vision', 'war', 'way', 'work', 'world', 'year',\n",
       "       'yet'], dtype=object)"
      ]
     },
     "execution_count": 129,
     "metadata": {},
     "output_type": "execute_result"
    }
   ],
   "source": [
    "cv_labels = cv.get_feature_names_out()\n",
    "cv_labels"
   ]
  },
  {
   "cell_type": "code",
   "execution_count": 130,
   "id": "6d32fe28",
   "metadata": {},
   "outputs": [
    {
     "data": {
      "text/plain": [
       "113"
      ]
     },
     "execution_count": 130,
     "metadata": {},
     "output_type": "execute_result"
    }
   ],
   "source": [
    "len(cv_labels)"
   ]
  },
  {
   "cell_type": "code",
   "execution_count": 70,
   "id": "389d6178",
   "metadata": {},
   "outputs": [
    {
     "data": {
      "text/plain": [
       "array([0, 0, 0, 0, 0, 0, 0, 0, 0, 0, 0, 0, 0, 0, 0, 0, 0, 0, 0, 0, 0, 0,\n",
       "       0, 0, 0, 0, 0, 0, 0, 0, 0, 0, 0, 0, 0, 0, 0, 0, 0, 0, 0, 0, 0, 0,\n",
       "       0, 0, 0, 0, 0, 0, 1, 0, 0, 0, 0, 0, 0, 0, 0, 0, 0, 0, 0, 0, 0, 0,\n",
       "       0, 0, 0, 0, 0, 0, 0, 0, 0, 0, 0, 0, 0, 0, 0, 0, 0, 0, 0, 0, 0, 0,\n",
       "       0, 0, 0, 0, 0, 0, 0, 0, 1, 0, 0, 0, 0, 0, 0, 0, 0, 0, 1, 0, 0, 0,\n",
       "       0, 0, 0], dtype=int64)"
      ]
     },
     "execution_count": 70,
     "metadata": {},
     "output_type": "execute_result"
    }
   ],
   "source": [
    "X[0]"
   ]
  },
  {
   "cell_type": "code",
   "execution_count": 76,
   "id": "33b05d02",
   "metadata": {},
   "outputs": [
    {
     "name": "stdout",
     "output_type": "stream",
     "text": [
      "india\n",
      "three\n",
      "vision\n"
     ]
    }
   ],
   "source": [
    "for i in range(len(X[0])):\n",
    "    if X[0][i] == 1:\n",
    "        print(cv_labels[i])"
   ]
  },
  {
   "cell_type": "markdown",
   "id": "74f88a29",
   "metadata": {},
   "source": [
    "# TF-IDF"
   ]
  },
  {
   "cell_type": "code",
   "execution_count": 78,
   "id": "58cf0692",
   "metadata": {},
   "outputs": [],
   "source": [
    "import nltk\n",
    "# Cleaning the texts\n",
    "import re\n",
    "from nltk.corpus import stopwords\n",
    "from nltk.stem.porter import PorterStemmer\n",
    "from nltk.stem import WordNetLemmatizer"
   ]
  },
  {
   "cell_type": "code",
   "execution_count": 85,
   "id": "e7dc4975",
   "metadata": {},
   "outputs": [],
   "source": [
    "paragraph =  \"\"\"I have three visions for India. In 3000 years of our history, people from all over \n",
    "               the world have come and invaded us, captured our lands, conquered our minds. \n",
    "               From Alexander onwards, the Greeks, the Turks, the Moguls, the Portuguese, the British,\n",
    "               the French, the Dutch, all of them came and looted us, took over what was ours. \n",
    "               Yet we have not done this to any other nation. We have not conquered anyone. \n",
    "               We have not grabbed their land, their culture, \n",
    "               their history and tried to enforce our way of life on them. \n",
    "               Why? Because we respect the freedom of others.That is why my \n",
    "               first vision is that of freedom. I believe that India got its first vision of \n",
    "               this in 1857, when we started the War of Independence. It is this freedom that\n",
    "               we must protect and nurture and build on. If we are not free, no one will respect us.\n",
    "               My second vision for India’s development. For fifty years we have been a developing nation.\n",
    "               It is time we see ourselves as a developed nation. We are among the top 5 nations of the world\n",
    "               in terms of GDP. We have a 10 percent growth rate in most areas. Our poverty levels are falling.\n",
    "               Our achievements are being globally recognised today. Yet we lack the self-confidence to\n",
    "               see ourselves as a developed nation, self-reliant and self-assured. Isn’t this incorrect?\n",
    "               I have a third vision. India must stand up to the world. Because I believe that unless India \n",
    "               stands up to the world, no one will respect us. Only strength respects strength. We must be \n",
    "               strong not only as a military power but also as an economic power. Both must go hand-in-hand. \n",
    "               My good fortune was to have worked with three great minds. Dr. Vikram Sarabhai of the Dept. of \n",
    "               space, Professor Satish Dhawan, who succeeded him and Dr. Brahm Prakash, father of nuclear material.\n",
    "               I was lucky to have worked with all three of them closely and consider this the great opportunity of my life. \n",
    "               I see four milestones in my career\"\"\""
   ]
  },
  {
   "cell_type": "code",
   "execution_count": 86,
   "id": "5d101cf5",
   "metadata": {},
   "outputs": [],
   "source": [
    "ps = PorterStemmer()\n",
    "wordnet=WordNetLemmatizer()\n",
    "sentences = nltk.sent_tokenize(paragraph)\n",
    "corpus = []\n",
    "for i in range(len(sentences)):\n",
    "    review = re.sub('[^a-zA-Z]', ' ', sentences[i])\n",
    "    review = review.lower()\n",
    "    review = review.split()\n",
    "    review = [wordnet.lemmatize(word) for word in review if not word in set(stopwords.words('english'))]\n",
    "    review = ' '.join(review)\n",
    "    corpus.append(review)"
   ]
  },
  {
   "cell_type": "code",
   "execution_count": 87,
   "id": "c816c79f",
   "metadata": {},
   "outputs": [
    {
     "name": "stdout",
     "output_type": "stream",
     "text": [
      "['three vision india', 'year history people world come invaded u captured land conquered mind', 'alexander onwards greek turk mogul portuguese british french dutch came looted u took', 'yet done nation', 'conquered anyone', 'grabbed land culture history tried enforce way life', '', 'respect freedom others first vision freedom', 'believe india got first vision started war independence', 'freedom must protect nurture build', 'free one respect u', 'second vision india development', 'fifty year developing nation', 'time see developed nation', 'among top nation world term gdp', 'percent growth rate area', 'poverty level falling', 'achievement globally recognised today', 'yet lack self confidence see developed nation self reliant self assured', 'incorrect', 'third vision', 'india must stand world', 'believe unless india stand world one respect u', 'strength respect strength', 'must strong military power also economic power', 'must go hand hand', 'good fortune worked three great mind', 'dr vikram sarabhai dept', 'space professor satish dhawan succeeded dr brahm prakash father nuclear material', 'lucky worked three closely consider great opportunity life', 'see four milestone career']\n"
     ]
    }
   ],
   "source": [
    "print(corpus)"
   ]
  },
  {
   "cell_type": "code",
   "execution_count": 88,
   "id": "173674a3",
   "metadata": {},
   "outputs": [],
   "source": [
    "# Creating the TF-IDF model\n",
    "from sklearn.feature_extraction.text import TfidfVectorizer\n",
    "cv = TfidfVectorizer()\n",
    "X = cv.fit_transform(corpus).toarray()"
   ]
  },
  {
   "cell_type": "code",
   "execution_count": 89,
   "id": "d8e9407b",
   "metadata": {},
   "outputs": [
    {
     "data": {
      "text/plain": [
       "(31, 114)"
      ]
     },
     "execution_count": 89,
     "metadata": {},
     "output_type": "execute_result"
    }
   ],
   "source": [
    "X.shape"
   ]
  },
  {
   "cell_type": "code",
   "execution_count": 90,
   "id": "b07c67f6",
   "metadata": {},
   "outputs": [
    {
     "name": "stdout",
     "output_type": "stream",
     "text": [
      "[0.         0.         0.         0.         0.         0.\n",
      " 0.         0.         0.         0.         0.         0.\n",
      " 0.         0.         0.         0.         0.         0.\n",
      " 0.         0.         0.         0.         0.         0.\n",
      " 0.         0.         0.         0.         0.         0.\n",
      " 0.         0.         0.         0.         0.         0.\n",
      " 0.         0.         0.         0.         0.         0.\n",
      " 0.         0.         0.         0.         0.         0.\n",
      " 0.         0.         0.         0.         0.54830459 0.\n",
      " 0.         0.         0.         0.         0.         0.\n",
      " 0.         0.         0.         0.         0.         0.\n",
      " 0.         0.         0.         0.         0.         0.\n",
      " 0.         0.         0.         0.         0.         0.\n",
      " 0.         0.         0.         0.         0.         0.\n",
      " 0.         0.         0.         0.         0.         0.\n",
      " 0.         0.         0.         0.         0.         0.\n",
      " 0.         0.         0.63144608 0.         0.         0.\n",
      " 0.         0.         0.         0.         0.         0.54830459\n",
      " 0.         0.         0.         0.         0.         0.        ]\n"
     ]
    }
   ],
   "source": [
    "print(X[0])"
   ]
  },
  {
   "cell_type": "code",
   "execution_count": 91,
   "id": "de88d75b",
   "metadata": {},
   "outputs": [
    {
     "data": {
      "text/plain": [
       "array(['achievement', 'alexander', 'also', 'among', 'anyone', 'area',\n",
       "       'assured', 'believe', 'brahm', 'british', 'build', 'came',\n",
       "       'captured', 'career', 'closely', 'come', 'confidence', 'conquered',\n",
       "       'consider', 'culture', 'dept', 'developed', 'developing',\n",
       "       'development', 'dhawan', 'done', 'dr', 'dutch', 'economic',\n",
       "       'enforce', 'falling', 'father', 'fifty', 'first', 'fortune',\n",
       "       'four', 'free', 'freedom', 'french', 'gdp', 'globally', 'go',\n",
       "       'good', 'got', 'grabbed', 'great', 'greek', 'growth', 'hand',\n",
       "       'history', 'incorrect', 'independence', 'india', 'invaded', 'lack',\n",
       "       'land', 'level', 'life', 'looted', 'lucky', 'material',\n",
       "       'milestone', 'military', 'mind', 'mogul', 'must', 'nation',\n",
       "       'nuclear', 'nurture', 'one', 'onwards', 'opportunity', 'others',\n",
       "       'people', 'percent', 'portuguese', 'poverty', 'power', 'prakash',\n",
       "       'professor', 'protect', 'rate', 'recognised', 'reliant', 'respect',\n",
       "       'sarabhai', 'satish', 'second', 'see', 'self', 'space', 'stand',\n",
       "       'started', 'strength', 'strong', 'succeeded', 'term', 'third',\n",
       "       'three', 'time', 'today', 'took', 'top', 'tried', 'turk', 'unless',\n",
       "       'vikram', 'vision', 'war', 'way', 'worked', 'world', 'year', 'yet'],\n",
       "      dtype=object)"
      ]
     },
     "execution_count": 91,
     "metadata": {},
     "output_type": "execute_result"
    }
   ],
   "source": [
    "cv_labels = cv.get_feature_names_out()\n",
    "cv_labels"
   ]
  },
  {
   "cell_type": "code",
   "execution_count": 93,
   "id": "f716a81b",
   "metadata": {},
   "outputs": [
    {
     "name": "stdout",
     "output_type": "stream",
     "text": [
      "india\n",
      "three\n",
      "vision\n"
     ]
    }
   ],
   "source": [
    "for i in range(len(X[0])):\n",
    "    if X[0][i] != 0:\n",
    "        print(cv_labels[i])"
   ]
  },
  {
   "cell_type": "markdown",
   "id": "b5d50d32",
   "metadata": {},
   "source": [
    "# Word Embedding"
   ]
  },
  {
   "cell_type": "code",
   "execution_count": 94,
   "id": "e7d607e6",
   "metadata": {},
   "outputs": [
    {
     "name": "stdout",
     "output_type": "stream",
     "text": [
      "WARNING:tensorflow:From C:\\Users\\Ved\\anaconda3\\Lib\\site-packages\\keras\\src\\losses.py:2976: The name tf.losses.sparse_softmax_cross_entropy is deprecated. Please use tf.compat.v1.losses.sparse_softmax_cross_entropy instead.\n",
      "\n"
     ]
    }
   ],
   "source": [
    "from tensorflow.keras.preprocessing.text import one_hot"
   ]
  },
  {
   "cell_type": "code",
   "execution_count": 95,
   "id": "a8a02578",
   "metadata": {},
   "outputs": [],
   "source": [
    "### sentences\n",
    "sent=[  'the glass of milk',\n",
    "     'the glass of juice',\n",
    "     'the cup of tea',\n",
    "    'I am a good boy',\n",
    "     'I am a good developer',\n",
    "     'understand the meaning of words',\n",
    "     'your videos are good',\n",
    "     'the glass of milk is made of glass']"
   ]
  },
  {
   "cell_type": "code",
   "execution_count": 96,
   "id": "6159a3f8",
   "metadata": {},
   "outputs": [],
   "source": [
    "### Vocabulary size\n",
    "voc_size=10000"
   ]
  },
  {
   "cell_type": "code",
   "execution_count": 97,
   "id": "57291944",
   "metadata": {},
   "outputs": [
    {
     "name": "stdout",
     "output_type": "stream",
     "text": [
      "[[6911, 8097, 9108, 1053], [6911, 8097, 9108, 963], [6911, 7327, 9108, 9528], [4454, 2947, 7884, 8977, 3707], [4454, 2947, 7884, 8977, 9892], [6339, 6911, 905, 9108, 3987], [244, 5346, 3949, 8977], [6911, 8097, 9108, 1053, 5517, 1808, 9108, 8097]]\n"
     ]
    }
   ],
   "source": [
    "onehot_repr=[one_hot(words,voc_size)for words in sent] \n",
    "print(onehot_repr)"
   ]
  },
  {
   "cell_type": "markdown",
   "id": "f2b70563",
   "metadata": {},
   "source": [
    "Word Embedding Represntation"
   ]
  },
  {
   "cell_type": "code",
   "execution_count": 98,
   "id": "bfb1281b",
   "metadata": {},
   "outputs": [],
   "source": [
    "from tensorflow.keras.layers import Embedding\n",
    "from tensorflow.keras.preprocessing.sequence import pad_sequences\n",
    "from tensorflow.keras.models import Sequential"
   ]
  },
  {
   "cell_type": "code",
   "execution_count": 99,
   "id": "ea12ffd9",
   "metadata": {},
   "outputs": [],
   "source": [
    "import numpy as np"
   ]
  },
  {
   "cell_type": "code",
   "execution_count": 100,
   "id": "04d4b578",
   "metadata": {},
   "outputs": [
    {
     "name": "stdout",
     "output_type": "stream",
     "text": [
      "[[   0    0    0    0 6911 8097 9108 1053]\n",
      " [   0    0    0    0 6911 8097 9108  963]\n",
      " [   0    0    0    0 6911 7327 9108 9528]\n",
      " [   0    0    0 4454 2947 7884 8977 3707]\n",
      " [   0    0    0 4454 2947 7884 8977 9892]\n",
      " [   0    0    0 6339 6911  905 9108 3987]\n",
      " [   0    0    0    0  244 5346 3949 8977]\n",
      " [6911 8097 9108 1053 5517 1808 9108 8097]]\n"
     ]
    }
   ],
   "source": [
    "sent_length=8\n",
    "embedded_docs=pad_sequences(onehot_repr,padding='pre',maxlen=sent_length)\n",
    "print(embedded_docs)"
   ]
  },
  {
   "cell_type": "code",
   "execution_count": 101,
   "id": "c861c302",
   "metadata": {},
   "outputs": [],
   "source": [
    "dim=10"
   ]
  },
  {
   "cell_type": "code",
   "execution_count": 102,
   "id": "c8ae6a46",
   "metadata": {},
   "outputs": [
    {
     "name": "stdout",
     "output_type": "stream",
     "text": [
      "WARNING:tensorflow:From C:\\Users\\Ved\\anaconda3\\Lib\\site-packages\\keras\\src\\backend.py:873: The name tf.get_default_graph is deprecated. Please use tf.compat.v1.get_default_graph instead.\n",
      "\n",
      "WARNING:tensorflow:From C:\\Users\\Ved\\anaconda3\\Lib\\site-packages\\keras\\src\\optimizers\\__init__.py:309: The name tf.train.Optimizer is deprecated. Please use tf.compat.v1.train.Optimizer instead.\n",
      "\n"
     ]
    }
   ],
   "source": [
    "model=Sequential()\n",
    "model.add(Embedding(voc_size,10,input_length=sent_length))\n",
    "model.compile('adam','mse')"
   ]
  },
  {
   "cell_type": "code",
   "execution_count": 103,
   "id": "689e7bf0",
   "metadata": {},
   "outputs": [
    {
     "name": "stdout",
     "output_type": "stream",
     "text": [
      "Model: \"sequential\"\n",
      "_________________________________________________________________\n",
      " Layer (type)                Output Shape              Param #   \n",
      "=================================================================\n",
      " embedding (Embedding)       (None, 8, 10)             100000    \n",
      "                                                                 \n",
      "=================================================================\n",
      "Total params: 100000 (390.62 KB)\n",
      "Trainable params: 100000 (390.62 KB)\n",
      "Non-trainable params: 0 (0.00 Byte)\n",
      "_________________________________________________________________\n"
     ]
    }
   ],
   "source": [
    "model.summary()"
   ]
  },
  {
   "cell_type": "code",
   "execution_count": 104,
   "id": "0c9b9db2",
   "metadata": {},
   "outputs": [
    {
     "name": "stdout",
     "output_type": "stream",
     "text": [
      "1/1 [==============================] - 0s 96ms/step\n",
      "[[[-0.02296318 -0.01922374  0.0368497  -0.03579916 -0.0009378\n",
      "   -0.03761284  0.02785888  0.02983705 -0.02277485 -0.0002177 ]\n",
      "  [-0.02296318 -0.01922374  0.0368497  -0.03579916 -0.0009378\n",
      "   -0.03761284  0.02785888  0.02983705 -0.02277485 -0.0002177 ]\n",
      "  [-0.02296318 -0.01922374  0.0368497  -0.03579916 -0.0009378\n",
      "   -0.03761284  0.02785888  0.02983705 -0.02277485 -0.0002177 ]\n",
      "  [-0.02296318 -0.01922374  0.0368497  -0.03579916 -0.0009378\n",
      "   -0.03761284  0.02785888  0.02983705 -0.02277485 -0.0002177 ]\n",
      "  [-0.02717313 -0.01367993  0.03351558  0.04539889 -0.0049757\n",
      "    0.00170362  0.01077425 -0.04993911 -0.00831612  0.0249621 ]\n",
      "  [-0.04058551  0.01773984 -0.03690742  0.04832703 -0.04553727\n",
      "   -0.04905515 -0.02146589  0.00246356  0.02924008  0.04383779]\n",
      "  [ 0.04806777  0.00608522  0.011419    0.04542765  0.01160859\n",
      "    0.01329298 -0.03490994 -0.0367926   0.04639356 -0.0269212 ]\n",
      "  [ 0.03850536 -0.02774214 -0.00544488  0.04469278  0.01941908\n",
      "    0.04564575  0.02616979 -0.04925209  0.00269401  0.04133313]]\n",
      "\n",
      " [[-0.02296318 -0.01922374  0.0368497  -0.03579916 -0.0009378\n",
      "   -0.03761284  0.02785888  0.02983705 -0.02277485 -0.0002177 ]\n",
      "  [-0.02296318 -0.01922374  0.0368497  -0.03579916 -0.0009378\n",
      "   -0.03761284  0.02785888  0.02983705 -0.02277485 -0.0002177 ]\n",
      "  [-0.02296318 -0.01922374  0.0368497  -0.03579916 -0.0009378\n",
      "   -0.03761284  0.02785888  0.02983705 -0.02277485 -0.0002177 ]\n",
      "  [-0.02296318 -0.01922374  0.0368497  -0.03579916 -0.0009378\n",
      "   -0.03761284  0.02785888  0.02983705 -0.02277485 -0.0002177 ]\n",
      "  [-0.02717313 -0.01367993  0.03351558  0.04539889 -0.0049757\n",
      "    0.00170362  0.01077425 -0.04993911 -0.00831612  0.0249621 ]\n",
      "  [-0.04058551  0.01773984 -0.03690742  0.04832703 -0.04553727\n",
      "   -0.04905515 -0.02146589  0.00246356  0.02924008  0.04383779]\n",
      "  [ 0.04806777  0.00608522  0.011419    0.04542765  0.01160859\n",
      "    0.01329298 -0.03490994 -0.0367926   0.04639356 -0.0269212 ]\n",
      "  [-0.02186233  0.02702582  0.03142251  0.00573522 -0.00308327\n",
      "   -0.04619212 -0.04395603  0.00612279  0.04940416 -0.03933244]]\n",
      "\n",
      " [[-0.02296318 -0.01922374  0.0368497  -0.03579916 -0.0009378\n",
      "   -0.03761284  0.02785888  0.02983705 -0.02277485 -0.0002177 ]\n",
      "  [-0.02296318 -0.01922374  0.0368497  -0.03579916 -0.0009378\n",
      "   -0.03761284  0.02785888  0.02983705 -0.02277485 -0.0002177 ]\n",
      "  [-0.02296318 -0.01922374  0.0368497  -0.03579916 -0.0009378\n",
      "   -0.03761284  0.02785888  0.02983705 -0.02277485 -0.0002177 ]\n",
      "  [-0.02296318 -0.01922374  0.0368497  -0.03579916 -0.0009378\n",
      "   -0.03761284  0.02785888  0.02983705 -0.02277485 -0.0002177 ]\n",
      "  [-0.02717313 -0.01367993  0.03351558  0.04539889 -0.0049757\n",
      "    0.00170362  0.01077425 -0.04993911 -0.00831612  0.0249621 ]\n",
      "  [ 0.00966686 -0.04406154 -0.02566999 -0.00656694 -0.04852777\n",
      "    0.01963932  0.04095628 -0.04230275  0.04767917 -0.02948449]\n",
      "  [ 0.04806777  0.00608522  0.011419    0.04542765  0.01160859\n",
      "    0.01329298 -0.03490994 -0.0367926   0.04639356 -0.0269212 ]\n",
      "  [-0.02663969  0.00292597 -0.02794187 -0.0236514   0.01181103\n",
      "   -0.00466352  0.02657291 -0.0438394  -0.04423785 -0.00644101]]\n",
      "\n",
      " [[-0.02296318 -0.01922374  0.0368497  -0.03579916 -0.0009378\n",
      "   -0.03761284  0.02785888  0.02983705 -0.02277485 -0.0002177 ]\n",
      "  [-0.02296318 -0.01922374  0.0368497  -0.03579916 -0.0009378\n",
      "   -0.03761284  0.02785888  0.02983705 -0.02277485 -0.0002177 ]\n",
      "  [-0.02296318 -0.01922374  0.0368497  -0.03579916 -0.0009378\n",
      "   -0.03761284  0.02785888  0.02983705 -0.02277485 -0.0002177 ]\n",
      "  [ 0.03332837 -0.0319916  -0.04824332  0.00437975  0.01436366\n",
      "    0.04089181  0.00747799  0.03338089 -0.03481302  0.00861384]\n",
      "  [-0.01098059  0.02964771  0.04524684 -0.03779722 -0.01072427\n",
      "    0.02284192 -0.03962469  0.02526739  0.00760601 -0.02794947]\n",
      "  [ 0.00402325 -0.0022242  -0.0249018  -0.04709184  0.03563021\n",
      "   -0.00171603  0.02701185  0.04820782  0.02793241 -0.04607943]\n",
      "  [-0.01104391  0.02990701  0.00110369  0.01813742 -0.00839417\n",
      "    0.00229935 -0.04654379  0.00203245  0.00780393 -0.02776954]\n",
      "  [ 0.03714717 -0.02194779  0.00333139 -0.00094537 -0.04907825\n",
      "   -0.0381469  -0.0376869  -0.01390148 -0.0147014  -0.04993513]]\n",
      "\n",
      " [[-0.02296318 -0.01922374  0.0368497  -0.03579916 -0.0009378\n",
      "   -0.03761284  0.02785888  0.02983705 -0.02277485 -0.0002177 ]\n",
      "  [-0.02296318 -0.01922374  0.0368497  -0.03579916 -0.0009378\n",
      "   -0.03761284  0.02785888  0.02983705 -0.02277485 -0.0002177 ]\n",
      "  [-0.02296318 -0.01922374  0.0368497  -0.03579916 -0.0009378\n",
      "   -0.03761284  0.02785888  0.02983705 -0.02277485 -0.0002177 ]\n",
      "  [ 0.03332837 -0.0319916  -0.04824332  0.00437975  0.01436366\n",
      "    0.04089181  0.00747799  0.03338089 -0.03481302  0.00861384]\n",
      "  [-0.01098059  0.02964771  0.04524684 -0.03779722 -0.01072427\n",
      "    0.02284192 -0.03962469  0.02526739  0.00760601 -0.02794947]\n",
      "  [ 0.00402325 -0.0022242  -0.0249018  -0.04709184  0.03563021\n",
      "   -0.00171603  0.02701185  0.04820782  0.02793241 -0.04607943]\n",
      "  [-0.01104391  0.02990701  0.00110369  0.01813742 -0.00839417\n",
      "    0.00229935 -0.04654379  0.00203245  0.00780393 -0.02776954]\n",
      "  [ 0.0249677   0.03203664  0.00972353  0.02810298 -0.03302456\n",
      "   -0.04943505  0.04438109  0.04161773 -0.01772833 -0.02005994]]\n",
      "\n",
      " [[-0.02296318 -0.01922374  0.0368497  -0.03579916 -0.0009378\n",
      "   -0.03761284  0.02785888  0.02983705 -0.02277485 -0.0002177 ]\n",
      "  [-0.02296318 -0.01922374  0.0368497  -0.03579916 -0.0009378\n",
      "   -0.03761284  0.02785888  0.02983705 -0.02277485 -0.0002177 ]\n",
      "  [-0.02296318 -0.01922374  0.0368497  -0.03579916 -0.0009378\n",
      "   -0.03761284  0.02785888  0.02983705 -0.02277485 -0.0002177 ]\n",
      "  [-0.0235855  -0.02224146  0.0044658   0.03349853 -0.04297626\n",
      "   -0.01929057  0.02800578 -0.00687097  0.02981409 -0.03922017]\n",
      "  [-0.02717313 -0.01367993  0.03351558  0.04539889 -0.0049757\n",
      "    0.00170362  0.01077425 -0.04993911 -0.00831612  0.0249621 ]\n",
      "  [ 0.02297289 -0.00304956  0.04846987 -0.04690118 -0.02245948\n",
      "    0.0265511  -0.00647521  0.0049047  -0.02834817 -0.03688923]\n",
      "  [ 0.04806777  0.00608522  0.011419    0.04542765  0.01160859\n",
      "    0.01329298 -0.03490994 -0.0367926   0.04639356 -0.0269212 ]\n",
      "  [-0.00097113  0.00628719  0.01702902 -0.0459174   0.03281133\n",
      "    0.0009204  -0.01690708  0.03948114 -0.03635196 -0.0025599 ]]\n",
      "\n",
      " [[-0.02296318 -0.01922374  0.0368497  -0.03579916 -0.0009378\n",
      "   -0.03761284  0.02785888  0.02983705 -0.02277485 -0.0002177 ]\n",
      "  [-0.02296318 -0.01922374  0.0368497  -0.03579916 -0.0009378\n",
      "   -0.03761284  0.02785888  0.02983705 -0.02277485 -0.0002177 ]\n",
      "  [-0.02296318 -0.01922374  0.0368497  -0.03579916 -0.0009378\n",
      "   -0.03761284  0.02785888  0.02983705 -0.02277485 -0.0002177 ]\n",
      "  [-0.02296318 -0.01922374  0.0368497  -0.03579916 -0.0009378\n",
      "   -0.03761284  0.02785888  0.02983705 -0.02277485 -0.0002177 ]\n",
      "  [-0.01222305 -0.01789788 -0.0319695   0.02348468  0.01659365\n",
      "   -0.00844486  0.03099764  0.01106695 -0.04325055 -0.00585463]\n",
      "  [ 0.04705472 -0.00208844 -0.03101544  0.02106506  0.02570507\n",
      "    0.022657    0.00650332  0.03175766 -0.04300888  0.04051666]\n",
      "  [ 0.00026862  0.03685044 -0.02500283  0.03471063  0.00095563\n",
      "    0.02980766  0.0249619  -0.04828072  0.02616241  0.04094476]\n",
      "  [-0.01104391  0.02990701  0.00110369  0.01813742 -0.00839417\n",
      "    0.00229935 -0.04654379  0.00203245  0.00780393 -0.02776954]]\n",
      "\n",
      " [[-0.02717313 -0.01367993  0.03351558  0.04539889 -0.0049757\n",
      "    0.00170362  0.01077425 -0.04993911 -0.00831612  0.0249621 ]\n",
      "  [-0.04058551  0.01773984 -0.03690742  0.04832703 -0.04553727\n",
      "   -0.04905515 -0.02146589  0.00246356  0.02924008  0.04383779]\n",
      "  [ 0.04806777  0.00608522  0.011419    0.04542765  0.01160859\n",
      "    0.01329298 -0.03490994 -0.0367926   0.04639356 -0.0269212 ]\n",
      "  [ 0.03850536 -0.02774214 -0.00544488  0.04469278  0.01941908\n",
      "    0.04564575  0.02616979 -0.04925209  0.00269401  0.04133313]\n",
      "  [ 0.02664519 -0.01623064 -0.00624384 -0.00644051 -0.01536401\n",
      "    0.01751317 -0.01705832  0.02500663 -0.01532718  0.00576904]\n",
      "  [-0.01723846  0.0140697  -0.02275955 -0.03171607  0.01416535\n",
      "   -0.02380655 -0.02473294 -0.0138059  -0.00709033  0.0023237 ]\n",
      "  [ 0.04806777  0.00608522  0.011419    0.04542765  0.01160859\n",
      "    0.01329298 -0.03490994 -0.0367926   0.04639356 -0.0269212 ]\n",
      "  [-0.04058551  0.01773984 -0.03690742  0.04832703 -0.04553727\n",
      "   -0.04905515 -0.02146589  0.00246356  0.02924008  0.04383779]]]\n"
     ]
    }
   ],
   "source": [
    "print(model.predict(embedded_docs))"
   ]
  },
  {
   "cell_type": "code",
   "execution_count": 105,
   "id": "8e799f0e",
   "metadata": {},
   "outputs": [
    {
     "data": {
      "text/plain": [
       "array([   0,    0,    0,    0, 6911, 8097, 9108, 1053])"
      ]
     },
     "execution_count": 105,
     "metadata": {},
     "output_type": "execute_result"
    }
   ],
   "source": [
    "embedded_docs[0]"
   ]
  },
  {
   "cell_type": "code",
   "execution_count": 106,
   "id": "69da27f7",
   "metadata": {},
   "outputs": [
    {
     "name": "stdout",
     "output_type": "stream",
     "text": [
      "1/1 [==============================] - 0s 27ms/step\n",
      "[[-0.02296318 -0.01922374  0.0368497  -0.03579916 -0.0009378  -0.03761284\n",
      "   0.02785888  0.02983705 -0.02277485 -0.0002177 ]\n",
      " [-0.02296318 -0.01922374  0.0368497  -0.03579916 -0.0009378  -0.03761284\n",
      "   0.02785888  0.02983705 -0.02277485 -0.0002177 ]\n",
      " [-0.02296318 -0.01922374  0.0368497  -0.03579916 -0.0009378  -0.03761284\n",
      "   0.02785888  0.02983705 -0.02277485 -0.0002177 ]\n",
      " [-0.02296318 -0.01922374  0.0368497  -0.03579916 -0.0009378  -0.03761284\n",
      "   0.02785888  0.02983705 -0.02277485 -0.0002177 ]\n",
      " [-0.02717313 -0.01367993  0.03351558  0.04539889 -0.0049757   0.00170362\n",
      "   0.01077425 -0.04993911 -0.00831612  0.0249621 ]\n",
      " [-0.04058551  0.01773984 -0.03690742  0.04832703 -0.04553727 -0.04905515\n",
      "  -0.02146589  0.00246356  0.02924008  0.04383779]\n",
      " [ 0.04806777  0.00608522  0.011419    0.04542765  0.01160859  0.01329298\n",
      "  -0.03490994 -0.0367926   0.04639356 -0.0269212 ]\n",
      " [ 0.03850536 -0.02774214 -0.00544488  0.04469278  0.01941908  0.04564575\n",
      "   0.02616979 -0.04925209  0.00269401  0.04133313]]\n"
     ]
    }
   ],
   "source": [
    "print(model.predict(embedded_docs)[0])"
   ]
  },
  {
   "cell_type": "code",
   "execution_count": 107,
   "id": "228f5b52",
   "metadata": {},
   "outputs": [
    {
     "data": {
      "text/plain": [
       "array([6911, 8097, 9108, 1053, 5517, 1808, 9108, 8097])"
      ]
     },
     "execution_count": 107,
     "metadata": {},
     "output_type": "execute_result"
    }
   ],
   "source": [
    "embedded_docs[7]"
   ]
  },
  {
   "cell_type": "code",
   "execution_count": 108,
   "id": "c04c5f14",
   "metadata": {},
   "outputs": [
    {
     "name": "stdout",
     "output_type": "stream",
     "text": [
      "1/1 [==============================] - 0s 35ms/step\n",
      "[[-0.02717313 -0.01367993  0.03351558  0.04539889 -0.0049757   0.00170362\n",
      "   0.01077425 -0.04993911 -0.00831612  0.0249621 ]\n",
      " [-0.04058551  0.01773984 -0.03690742  0.04832703 -0.04553727 -0.04905515\n",
      "  -0.02146589  0.00246356  0.02924008  0.04383779]\n",
      " [ 0.04806777  0.00608522  0.011419    0.04542765  0.01160859  0.01329298\n",
      "  -0.03490994 -0.0367926   0.04639356 -0.0269212 ]\n",
      " [ 0.03850536 -0.02774214 -0.00544488  0.04469278  0.01941908  0.04564575\n",
      "   0.02616979 -0.04925209  0.00269401  0.04133313]\n",
      " [ 0.02664519 -0.01623064 -0.00624384 -0.00644051 -0.01536401  0.01751317\n",
      "  -0.01705832  0.02500663 -0.01532718  0.00576904]\n",
      " [-0.01723846  0.0140697  -0.02275955 -0.03171607  0.01416535 -0.02380655\n",
      "  -0.02473294 -0.0138059  -0.00709033  0.0023237 ]\n",
      " [ 0.04806777  0.00608522  0.011419    0.04542765  0.01160859  0.01329298\n",
      "  -0.03490994 -0.0367926   0.04639356 -0.0269212 ]\n",
      " [-0.04058551  0.01773984 -0.03690742  0.04832703 -0.04553727 -0.04905515\n",
      "  -0.02146589  0.00246356  0.02924008  0.04383779]]\n"
     ]
    }
   ],
   "source": [
    "print(model.predict(embedded_docs)[7])"
   ]
  },
  {
   "cell_type": "markdown",
   "id": "b79d5aad",
   "metadata": {},
   "source": [
    "# Word Embedding using gensim"
   ]
  },
  {
   "cell_type": "code",
   "execution_count": 109,
   "id": "c8254fb6",
   "metadata": {},
   "outputs": [],
   "source": [
    "import nltk\n",
    "from gensim.models import Word2Vec\n",
    "from nltk.corpus import stopwords\n",
    "import re"
   ]
  },
  {
   "cell_type": "code",
   "execution_count": 140,
   "id": "c1b6e3ea",
   "metadata": {},
   "outputs": [],
   "source": [
    "paragraph = '''With pleasure! Let's delve into the fascinating realms of man, woman, king, and queen, exploring their intricate roles, evolving identities, and enduring impact on our world.\n",
    "\n",
    "Man and Woman: A Tapestry of Duality and Diversity\n",
    "\n",
    "Man and woman, two fundamental pillars of humanity, intertwined through shared history, yet forever distinguished by biological and social constructs. Their identities are not monolithic, but rather mosaics of individual experiences, cultural expectations, and personal choices.\n",
    "\n",
    "The Biological Canvas:\n",
    "\n",
    "Testosterone paints the canvas of masculinity, shaping muscle mass, facial hair, and even vocal pitch. It fuels a drive for competition and achievement, often translated into roles of protector and provider. Estrogen, on the other hand, lays the groundwork for femininity, influencing fertility, maternal instincts, and emotional expression. However, biology is not destiny. Variations in hormone levels and individual responses blur the lines, presenting a spectrum of possibilities rather than rigid binaries.\n",
    "\n",
    "The Social Script:\n",
    "\n",
    "Traditional social constructs have assigned specific roles to men and women. Men were expected to be stoic, dominant figures, the breadwinners and decision-makers. Women were seen as nurturing caregivers, primarily responsible for domestic duties and childcare. These rigid expectations often led to limitations and inequalities, stifling individual potential and creating unnecessary conflict.\n",
    "\n",
    "The Tapestry of Today:\n",
    "\n",
    "The 21st century witnesses a beautiful unraveling of these outdated scripts. Men are embracing vulnerability and emotional expression, exploring diverse career paths, and actively participating in childcare. Women are shattering glass ceilings in the workplace, leading movements for social justice, and reclaiming their narratives through art, literature, and activism.\n",
    "\n",
    "King and Queen: Power and Responsibility in Different Garbs\n",
    "\n",
    "Kings and queens, figures cloaked in history and often adorned with crowns, represent different forms of power and responsibility. Their roles have evolved over time, reflecting changing societal structures and ideals.\n",
    "\n",
    "The Warrior Kings:\n",
    "\n",
    "In the dawn of civilization, kings emerged as warrior-leaders, wielding physical strength and strategic prowess to protect their tribes and secure resources. Think Gilgamesh of Mesopotamia or King Leonidas of Sparta, their reigns etched in tales of conquest and unwavering resolve.\n",
    "\n",
    "The Wise Rulers:\n",
    "\n",
    "As empires rose and complex societies formed, the role of the king transitioned towards statecraft and diplomacy. Leaders like Ashoka of India or Queen Hatshepsut of Egypt became skilled administrators, fostering trade, promoting art and learning, and laying the foundations for enduring civilizations.\n",
    "\n",
    "The Modern Landscape:\n",
    "\n",
    "In the modern world, the concept of monarchy has taken diverse forms. While some countries retain hereditary monarchies, others have opted for elected heads of state or parliamentary systems. Regardless of the system, the essence of leadership – guiding, uniting, and inspiring progress – remains a crucial aspect of governance.\n",
    "\n",
    "Queens: From Shadows to Spotlights\n",
    "\n",
    "Queens, often seen as the counterparts to kings, have historically occupied diverse spaces within the power structure. Some, like Catherine de Medici of France, wielded significant political influence in the shadows, acting as advisors and power brokers behind the throne. Others, like Elizabeth I of England, ruled with absolute authority, leaving an indelible mark on their nations' histories.\n",
    "\n",
    "Beyond the Throne:\n",
    "\n",
    "Today, the concept of \"queen\" extends far beyond royal courts. Businesswomen, philanthropists, scientists, and artists are claiming their rightful space as leaders and changemakers. Mothers and mentors are the queens of their households, nurturing and guiding the next generation. The essence of a queen – resilience, wisdom, and the ability to inspire others – has become a powerful symbol of female empowerment in all spheres of life.\n",
    "\n",
    "Man, Woman, King, Queen: A Collaborative Tapestry\n",
    "\n",
    "The future of these intertwined identities lies not in rigid definitions or competition, but in collaboration and mutual respect. Men and women can work together to dismantle outdated stereotypes and build a world where everyone thrives. Kings and queens, whether in traditional roles or modern leadership positions, can utilize their power to champion equality, justice, and progress for all.\n",
    "\n",
    "Ultimately, the stories of man, woman, king, and queen are not separate narratives, but threads woven into a single tapestry of humanity. It is a tapestry constantly evolving, with each generation adding its own unique colors and textures. By embracing diversity, recognizing the strengths of each thread, and collaborating towards a brighter future, we can create a world where every individual flourishes and contributes to a more just and equitable society.\n",
    "\n",
    "Remember, this is just a starting point. Feel free to explore specific aspects of these identities further, delve into historical figures or contemporary movements, or even share your own thoughts and experiences on what it means to be a man, woman, king,'''"
   ]
  },
  {
   "cell_type": "code",
   "execution_count": 141,
   "id": "0172c86f",
   "metadata": {},
   "outputs": [
    {
     "name": "stderr",
     "output_type": "stream",
     "text": [
      "[nltk_data] Downloading package stopwords to\n",
      "[nltk_data]     C:\\Users\\Ved\\AppData\\Roaming\\nltk_data...\n",
      "[nltk_data]   Package stopwords is already up-to-date!\n"
     ]
    },
    {
     "data": {
      "text/plain": [
       "True"
      ]
     },
     "execution_count": 141,
     "metadata": {},
     "output_type": "execute_result"
    }
   ],
   "source": [
    "nltk.download('stopwords')"
   ]
  },
  {
   "cell_type": "code",
   "execution_count": 142,
   "id": "044ed362",
   "metadata": {},
   "outputs": [],
   "source": [
    "# Preprocessing the data\n",
    "text = re.sub(r'\\[[0-9]*\\]',' ',paragraph)\n",
    "text = re.sub(r'\\s+',' ',text)\n",
    "text = text.lower()\n",
    "text = re.sub(r'\\d',' ',text)\n",
    "text = re.sub(r'\\s+',' ',text)\n",
    "\n",
    "# Preparing the dataset\n",
    "sentences = nltk.sent_tokenize(text)\n",
    "\n",
    "sentences = [nltk.word_tokenize(sentence) for sentence in sentences]\n",
    "\n",
    "for i in range(len(sentences)):\n",
    "    sentences[i] = [word for word in sentences[i] if word not in stopwords.words('english')]"
   ]
  },
  {
   "cell_type": "code",
   "execution_count": 143,
   "id": "a4c4f75a",
   "metadata": {},
   "outputs": [],
   "source": [
    "# Training the Word2Vec model\n",
    "model = Word2Vec(sentences, min_count=1, vector_size=4)"
   ]
  },
  {
   "cell_type": "code",
   "execution_count": 144,
   "id": "5bce9103",
   "metadata": {},
   "outputs": [],
   "source": [
    "vector = model.wv['king']"
   ]
  },
  {
   "cell_type": "code",
   "execution_count": 145,
   "id": "324279c0",
   "metadata": {},
   "outputs": [
    {
     "data": {
      "text/plain": [
       "array([ 0.07151555,  0.02366619, -0.20054443, -0.23584826], dtype=float32)"
      ]
     },
     "execution_count": 145,
     "metadata": {},
     "output_type": "execute_result"
    }
   ],
   "source": [
    "vector"
   ]
  },
  {
   "cell_type": "code",
   "execution_count": 146,
   "id": "d850a75d",
   "metadata": {},
   "outputs": [],
   "source": [
    "similar = model.wv.most_similar('king')"
   ]
  },
  {
   "cell_type": "code",
   "execution_count": 147,
   "id": "f9e300cf",
   "metadata": {},
   "outputs": [
    {
     "data": {
      "text/plain": [
       "[('fertility', 0.9742832779884338),\n",
       " ('leonidas', 0.9668865203857422),\n",
       " ('india', 0.9609314203262329),\n",
       " ('opted', 0.9495121240615845),\n",
       " ('diplomacy', 0.9278146624565125),\n",
       " ('civilizations', 0.9017810225486755),\n",
       " ('social', 0.8906058669090271),\n",
       " ('collaboration', 0.8883264064788818),\n",
       " ('spectrum', 0.8857601881027222),\n",
       " ('assigned', 0.8449699878692627)]"
      ]
     },
     "execution_count": 147,
     "metadata": {},
     "output_type": "execute_result"
    }
   ],
   "source": [
    "similar"
   ]
  },
  {
   "cell_type": "code",
   "execution_count": 148,
   "id": "e58834af",
   "metadata": {},
   "outputs": [],
   "source": [
    "king = model.wv['king']\n",
    "queen = model.wv['queen']\n",
    "man = model.wv['man']\n",
    "woman = model.wv['woman']"
   ]
  },
  {
   "cell_type": "code",
   "execution_count": null,
   "id": "35a24e60",
   "metadata": {},
   "outputs": [],
   "source": []
  }
 ],
 "metadata": {
  "kernelspec": {
   "display_name": "Python 3 (ipykernel)",
   "language": "python",
   "name": "python3"
  },
  "language_info": {
   "codemirror_mode": {
    "name": "ipython",
    "version": 3
   },
   "file_extension": ".py",
   "mimetype": "text/x-python",
   "name": "python",
   "nbconvert_exporter": "python",
   "pygments_lexer": "ipython3",
   "version": "3.11.5"
  }
 },
 "nbformat": 4,
 "nbformat_minor": 5
}
