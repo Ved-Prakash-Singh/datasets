{
 "cells": [
  {
   "cell_type": "code",
   "execution_count": 1,
   "id": "a5236b1c",
   "metadata": {},
   "outputs": [],
   "source": [
    "#!pip install gensim"
   ]
  },
  {
   "cell_type": "code",
   "execution_count": 2,
   "id": "06f99dab",
   "metadata": {},
   "outputs": [],
   "source": [
    "import nltk\n",
    "from gensim.models import Word2Vec\n",
    "from nltk.corpus import stopwords\n",
    "import re"
   ]
  },
  {
   "cell_type": "code",
   "execution_count": 3,
   "id": "177c7119",
   "metadata": {},
   "outputs": [],
   "source": [
    "paragraph='''King sits on throne. Queen sits on throne. King is man. Quenn is woman. king is powerful. queen is powerful. man have moustache '''"
   ]
  },
  {
   "cell_type": "code",
   "execution_count": 4,
   "id": "bdfa01c1",
   "metadata": {},
   "outputs": [],
   "source": [
    "paragraph = '''\n",
    "Man, a singular word carrying the weight of countless stories, a kaleidoscope of contradictions and triumphs. From the sun-bronzed hunter striding the savannah to the suit-clad executive navigating the urban jungle, the image of man has danced between epochs, forever redefined by the whispers of time and the thunderous roars of progress.\n",
    "\n",
    "His body, a testament to evolution's intricate brushstrokes, bears the mark of both strength and tenderness. The calloused hands, weathered by toil and sculpted by purpose, can cradle a newborn with equal grace. His voice, echoing through ages, carries the tremor of battle cries and the hushed lullabies sung beside flickering flames. Within him burns a furnace of testosterone, the primal fuel that drives him to conquer and create, but also the ember that can ignite into the fury of war or the comforting warmth of unwavering loyalty.\n",
    "\n",
    "His mind, a labyrinth of reason and emotion, grapples with the eternal questions - purpose, legacy, the vast unknown. He navigates the treacherous tides of logic and intuition, building towering structures of steel and glass while yearning for the solace of starlit skies. His laughter, a symphony of camaraderie, rings out in boisterous taverns and intimate circles, a testament to the bonds forged in shared experience. His tears, often hidden behind stoic facades, are born of loss, love, and the poignant awareness of his own fleeting mortality.\n",
    "\n",
    "His spirit, a restless flame against the encroaching darkness, dares to push boundaries and defy limitations. He carves his name on mountains and plumbs the depths of oceans, driven by an insatiable curiosity and a restless hunger for knowledge. He builds empires and dreams of utopias, fueled by an unwavering belief in his own potential and the boundless possibilities that lie beyond the horizon. Yet, his spirit also bears the scars of conflict, stained by the darkness of greed, vengeance, and the suffocating grip of fear.\n",
    "\n",
    "His relationships, a tapestry woven with threads of love, loyalty, and competition, define the landscape of his life. He stands as protector and provider, the oak sheltering his family from the storm. He forges bonds of brotherhood, sharing burdens and triumphs on the dusty battlefield or in the quiet intimacy of shared laughter. He seeks solace in the arms of a lover, a dance of vulnerability and passion played out against the backdrop of shared dreams and whispered secrets.\n",
    "\n",
    "His history, a saga etched in the annals of time, whispers tales of triumph and folly, progress and barbarity. He has built civilizations that kissed the heavens and painted his canvas with the vibrant hues of art and innovation. Yet, he has also cast long shadows of war and exploitation, leaving behind scars that refuse to fade. His journey is a testament to the relentless march of time, a testament to the capacity for both creation and destruction that rests within the human heart.\n",
    "\n",
    "His future, a canvas splashed with hope and uncertainty, beckons him onward. He stands at the precipice of unimaginable technological advancements, grappling with the ethical dilemmas that come with unlocking the secrets of the universe. He faces the specter of environmental crises, a stark reminder of his delicate dance with the natural world. Yet, within him lies the potential to choose a different path, to rewrite the narrative with the ink of sustainability and compassion.\n",
    "\n",
    "Man, a complex tapestry woven in the loom of time and tide, forever a work in progress. He is both hero and villain, builder and destroyer, a creature of contradictions and boundless potential. As we move forward, may we choose to celebrate the full spectrum of his humanity, fostering his strengths, illuminating his blind spots, and guiding him towards a future where he can finally become the best version of himself, not just for himself, but for the world around him.\n",
    "\n",
    "And so, the story of man continues, etched in the ever-shifting sands of time. What chapters will we write next? Only time will tell.\n",
    "\n",
    "Woman, a word etched with grace and resilience, a kaleidoscope of strength and softness, a testament to the unyielding spirit that blooms even in the harshest terrain. From the sun-kissed farmer tilling the earth to the astronaut dancing among the stars, the image of woman has redefined itself through epochs, leaving an indelible mark on the canvas of time.\n",
    "\n",
    "Her body, a vessel of creation and transformation, whispers tales of both fragility and fortitude. The gentle hands, cradling life with a tenderness that rivals the dawn, can also till the soil with unwavering determination. Her voice, a symphony of wisdom and resilience, echoes through bustling marketplaces and hushed libraries, carrying the weight of stories whispered through generations. Within her burns a quiet fire, fueled by the primal essence of creation, nurturing life not just in the cradle, but in the fertile fields of her dreams and ambitions.\n",
    "\n",
    "Her mind, a labyrinth of intuition and intellect, navigates the intricate dance of logic and emotion. She builds bridges across cultural divides, forging connections with the threads of empathy and understanding. Her laughter, a cascading waterfall of joy, rings out in meadows bathed in sunlight and kitchens filled with the aroma of home. Her tears, though often hidden behind walls of courage, cleanse the soul, reflecting the depths of her compassion and the poignant awareness of her own vulnerability.\n",
    "\n",
    "Her spirit, a beacon of unwavering hope against the encroaching darkness, is fueled by an insatiable thirst for justice and a relentless pursuit of progress. She stands as a warrior against oppression, her voice rising above the din, demanding equality and dignity for all. She builds communities of support, weaving intricate webs of connection that offer solace and strength to those who falter. Her spirit knows no boundaries, soaring on wings of dreams and defying limitations with the quiet confidence of a rising sun.\n",
    "\n",
    "Her relationships, a tapestry woven with threads of love, loyalty, and unwavering support, are the cornerstone of her existence. She stands as a pillar of strength for her family, a fierce protector who shelters them from life's storms. She forges bonds of sisterhood, a network of unwavering support that transcends societal barriers and celebrates the shared strength of the feminine spirit. She seeks solace and companionship in the arms of a lover, a dance of vulnerability and passion played out beneath the watchful gaze of the moon.\n",
    "\n",
    "Her history, a saga etched in the annals of time, whispers tales of both triumph and struggle, resilience and rebellion. She has built empires that rivaled the heavens and penned epics that resonate through generations. Yet, she has also faced the harsh realities of discrimination and oppression, her voice silenced, her spirit bruised but never broken. Her journey is a testament to the unyielding spirit of the feminine, a testament to the power of rising above adversity and claiming her rightful place in the world.\n",
    "\n",
    "Her future, a canvas splashed with hope and brimming with potential, beckons her onward. She stands at the forefront of technological advancements, her keen mind unlocking the secrets of the universe and pushing the boundaries of human progress. She faces the ever-present challenges of climate change and social injustice, her voice a clarion call for collective action and sustainable solutions. Yet, within her lies the unwavering belief in a brighter tomorrow, a future where she can not only thrive but rewrite the narrative with the ink of inclusivity and compassion.\n",
    "\n",
    "Woman, a complex tapestry woven in the loom of time and tide, forever a work in progress. She is both warrior and nurturer, rebel and architect, a creature of contradictions and boundless potential. As we move forward, may we choose to celebrate the full spectrum of her humanity, fostering her strengths, illuminating her blind spots, and creating a world where she can finally become the best version of herself, not just for herself, but for the world around her.\n",
    "\n",
    "And so, the story of woman continues, etched in the ever-shifting sands of time. What chapters will we write next? Only time will tell.\n",
    "\n",
    "King, a word draped in the shimmering robes of history, echoing with the clash of armor and the hushed whispers of courtly intrigue. It evokes towering figures, crowned with gold and burdened by expectation, their lives a tightrope walk between power and peril. Yet, the image of the king is not a monolith, but a mosaic fractured by time and circumstance. From benevolent shepherd to tyrant draped in shadow, the story of the king is as diverse as the crowns they bore.\n",
    "\n",
    "In the dawn of civilization, the king emerged as a protector, a warrior-leader safeguarding his tribe from the hungry maw of wilderness and rival clans. His strength, honed in battle, secured prosperity and instilled awe. His wisdom, tempered by age and experience, guided his people through famine and conflict. Such was the king of old, a primal force intertwined with the land and its bounty, his reign etched in the fertile fields and weathered stones of his domain.\n",
    "\n",
    "As empires rose and empires fell, the king evolved. No longer simply a warrior, he became a statesman, a cunning player on the intricate chessboard of politics. His court, a tapestry woven with ambition and intrigue, housed advisors wise and treacherous, generals battle-scarred and devious. His every decision, a ripple in the pond of history, influencing the fates of nations and the whispers of distant markets. In these gilded halls, kingship was a dance with shadows, a constant negotiation between power and vulnerability, victory and betrayal.\n",
    "\n",
    "The crown, an emblem of authority, often came at a steep price. For some, it was a poisoned chalice, the burden of duty eclipsing the warmth of human connection. Isolated by their station, surrounded by yes-men and schemers, some kings succumbed to paranoia and tyranny, their once righteous hearts choked by the weeds of absolute power. Their reigns, stained by bloodshed and injustice, became cautionary tales etched in the annals of history, a stark reminder of the corrupting allure of unchecked power.\n",
    "\n",
    "However, not all kings succumbed to the darkness. History shines a spotlight on benevolent figures, their reigns marked by wisdom and compassion. These were kings who understood that true power resided not in iron fist and gilded throne, but in the well-being of their people. They nurtured their lands, encouraged trade and learning, fostered peace and justice. Their legacies, inscribed in flourishing cities and thriving communities, stand as testaments to the potential of a king to be a guiding light, a shepherd leading his flock towards a brighter dawn.\n",
    "\n",
    "Yet, the very notion of kingship has faced its challengers. The winds of revolution, whispering across continents, have toppled gilded thrones and rewritten the social script. Modernity, with its emphasis on equality and democratic ideals, has questioned the divine right of kings, exposing the cracks in the once-impregnable facade of absolute power. The crown, once a symbol of untouchable authority, now sits in museums, a relic of a bygone era, a conversation starter rather than a symbol of dominance.\n",
    "\n",
    "But the essence of the king, the primal desire for leadership, guidance, and protection, remains. In the modern world, it manifests in different forms. Elected leaders, chosen by the will of the people, carry the mantle of responsibility, albeit without the trappings of a crown. Visionaries who shape technology and reshape culture, though uncrowned, lead armies of followers and challenge the status quo. In these echoes, the whispers of the king persist, a reminder that the human yearning for strong and wise leadership transcends the trappings of a gilded age.\n",
    "\n",
    "The future of the king, if not in the form of a crowned monarch, might reside in the collective wisdom of communities, the leadership born from collaboration and shared purpose. Perhaps, the true legacy of the king lies not in the echo of clanging armor and whispered courtly secrets, but in the embers of leadership that spark within each of us, urging us to build a better world, not from a gilded throne, but from the very fabric of our shared humanity.\n",
    "\n",
    "So, the story of the king continues, albeit in a new chapter. The crown may fade into museum displays, but the yearning for leadership, for the guiding hand that steers us through the storms of uncertainty, remains etched in the human heart. We may not need kings in the traditional sense anymore, but the quest for wisdom, justice, and progress, the echoes of the king's ancient song, will continue to resonate through the ages, urging us to build a world worthy of the legacy we inherit.\n",
    "\n",
    "Queen, a word draped in velvet and diamonds, whispering of power and intrigue. It conjures images of regal figures, draped in shimmering gowns and crowned with jewels, navigating the perilous currents of courtly life. Yet, the image of the queen is a kaleidoscope, refracted through time and circumstance. From warrior-mothers to cunning rulers, from silent pawns to architects of empires, the story of the queen is as diverse as the pearls adorning her necklace.\n",
    "\n",
    "In the cradle of civilization, the queen emerged as a fertile vessel, a giver of life and nurturer of her tribe. Her wisdom, gleaned from the cycles of nature and the echoes of ancestral knowledge, guided her people through hardship and prosperity. Her crown, often woven from feathers and earth, was a symbol of the land's bounty and the enduring spirit of her community. In these primordial courts, the queen reigned not with iron fist, but with the gentle persuasion of her wisdom and the unwavering love for her people.\n",
    "\n",
    "As empires rose and empires fell, the queen evolved alongside them. No longer simply a nurturer, she became a strategist, a cunning player in the intricate game of thrones. Her court, a labyrinth of whispers and alliances, housed advisors both loyal and treacherous, courtiers vying for favor, and enemies masked in smiles. Her every decision, a delicate dance on a political tightrope, could ripple through kingdoms, sparking wars and forging treaties. In these gilded halls, the queen was a sphinx, cloaked in enigma, her every move fraught with potential peril and whispered intrigue.\n",
    "\n",
    "The crown, once a symbol of bounty, now became a double-edged sword. For some, it was a gilded cage, the burden of expectation eclipsing the warmth of human connection. Isolated by their station, surrounded by sycophants and schemers, some queens succumbed to the whispers of paranoia and ambition, their once benevolent hearts morphing into instruments of tyranny. Their reigns, etched in the blood of dissent and the whispers of lost freedoms, became chilling cautionary tales, a stark reminder of the corrupting allure of unchecked power.\n",
    "\n",
    "However, history also shines a spotlight on benevolent figures, their reigns marked by wisdom and reform. These were queens who understood that true power resided not in dominion or military might, but in the well-being of their people. They fostered arts and learning, championed justice and equality, and paved the path for prosperity through diplomacy and strategic alliances. Their legacies, inscribed in flourishing trade routes and vibrant communities, stand as testaments to the potential of a queen to be a beacon of hope, a gardener nurturing the seeds of progress within her domains.\n",
    "\n",
    "Yet, the very concept of the queen has faced its challenges. The winds of revolution, whistling across continents, have toppled gilded thrones and rewritten the social script. Modernity, with its emphasis on individual rights and democratic ideals, has questioned the divine right of queens, exposing the cracks in the once-impregnable facade of absolute power. The crown, once a symbol of untouchable authority, now sits in museums, a conversation starter rather than a symbol of dominance.\n",
    "\n",
    "But the essence of the queen, the primal yearning for leadership and guidance, remains. In the modern world, it manifests in different forms. Elected leaders, chosen by the will of the people, carry the mantle of responsibility, albeit without the trappings of a crown. Businesswomen and philanthropists, wielding the power of finance and innovation, shape the landscape of industry and society. Mothers and mentors, guiding the next generation with wisdom and unwavering love, are the queens of their own domestic realms. In these echoes, the whispers of the queen persist, a reminder that the human yearning for strong and wise leadership transcends the limitations of a bygone era.\n",
    "\n",
    "The future of the queen, if not in the form of a crowned monarch, might reside in the collective leadership and wisdom of communities. Perhaps, the true legacy of the queen lies not in the echo of courtly whispers and glittering gowns, but in the embers of leadership that spark within each woman, urging us to build a better world, not from a gilded throne, but from the very foundation of equality and shared purpose.\n",
    "\n",
    "So, the story of the queen continues, albeit in a new chapter. The crown may fade into museum displays, but the yearning for wisdom, justice, and progress, the echoes of the queen's ancient song, will continue to resonate through the ages, urging us to build a world worthy of the legacy we inherit. In this new narrative, the crown doesn't sit atop a single head, but rests upon the shoulders of every woman who dares to step up, lead, and make a difference in her own domain, large or small. And in that sense, the story of the queen becomes the story of us all, woven together in a tapestry of strength, serendipity, and the relentless pursuit of a brighter tomorrow.\n",
    "\n",
    "'''"
   ]
  },
  {
   "cell_type": "code",
   "execution_count": 5,
   "id": "90aa82b9",
   "metadata": {},
   "outputs": [],
   "source": [
    "paragraph = '''With pleasure! Let's delve into the fascinating realms of man, woman, king, and queen, exploring their intricate roles, evolving identities, and enduring impact on our world.\n",
    "\n",
    "Man and Woman: A Tapestry of Duality and Diversity\n",
    "\n",
    "Man and woman, two fundamental pillars of humanity, intertwined through shared history, yet forever distinguished by biological and social constructs. Their identities are not monolithic, but rather mosaics of individual experiences, cultural expectations, and personal choices.\n",
    "\n",
    "The Biological Canvas:\n",
    "\n",
    "Testosterone paints the canvas of masculinity, shaping muscle mass, facial hair, and even vocal pitch. It fuels a drive for competition and achievement, often translated into roles of protector and provider. Estrogen, on the other hand, lays the groundwork for femininity, influencing fertility, maternal instincts, and emotional expression. However, biology is not destiny. Variations in hormone levels and individual responses blur the lines, presenting a spectrum of possibilities rather than rigid binaries.\n",
    "\n",
    "The Social Script:\n",
    "\n",
    "Traditional social constructs have assigned specific roles to men and women. Men were expected to be stoic, dominant figures, the breadwinners and decision-makers. Women were seen as nurturing caregivers, primarily responsible for domestic duties and childcare. These rigid expectations often led to limitations and inequalities, stifling individual potential and creating unnecessary conflict.\n",
    "\n",
    "The Tapestry of Today:\n",
    "\n",
    "The 21st century witnesses a beautiful unraveling of these outdated scripts. Men are embracing vulnerability and emotional expression, exploring diverse career paths, and actively participating in childcare. Women are shattering glass ceilings in the workplace, leading movements for social justice, and reclaiming their narratives through art, literature, and activism.\n",
    "\n",
    "King and Queen: Power and Responsibility in Different Garbs\n",
    "\n",
    "Kings and queens, figures cloaked in history and often adorned with crowns, represent different forms of power and responsibility. Their roles have evolved over time, reflecting changing societal structures and ideals.\n",
    "\n",
    "The Warrior Kings:\n",
    "\n",
    "In the dawn of civilization, kings emerged as warrior-leaders, wielding physical strength and strategic prowess to protect their tribes and secure resources. Think Gilgamesh of Mesopotamia or King Leonidas of Sparta, their reigns etched in tales of conquest and unwavering resolve.\n",
    "\n",
    "The Wise Rulers:\n",
    "\n",
    "As empires rose and complex societies formed, the role of the king transitioned towards statecraft and diplomacy. Leaders like Ashoka of India or Queen Hatshepsut of Egypt became skilled administrators, fostering trade, promoting art and learning, and laying the foundations for enduring civilizations.\n",
    "\n",
    "The Modern Landscape:\n",
    "\n",
    "In the modern world, the concept of monarchy has taken diverse forms. While some countries retain hereditary monarchies, others have opted for elected heads of state or parliamentary systems. Regardless of the system, the essence of leadership – guiding, uniting, and inspiring progress – remains a crucial aspect of governance.\n",
    "\n",
    "Queens: From Shadows to Spotlights\n",
    "\n",
    "Queens, often seen as the counterparts to kings, have historically occupied diverse spaces within the power structure. Some, like Catherine de Medici of France, wielded significant political influence in the shadows, acting as advisors and power brokers behind the throne. Others, like Elizabeth I of England, ruled with absolute authority, leaving an indelible mark on their nations' histories.\n",
    "\n",
    "Beyond the Throne:\n",
    "\n",
    "Today, the concept of \"queen\" extends far beyond royal courts. Businesswomen, philanthropists, scientists, and artists are claiming their rightful space as leaders and changemakers. Mothers and mentors are the queens of their households, nurturing and guiding the next generation. The essence of a queen – resilience, wisdom, and the ability to inspire others – has become a powerful symbol of female empowerment in all spheres of life.\n",
    "\n",
    "Man, Woman, King, Queen: A Collaborative Tapestry\n",
    "\n",
    "The future of these intertwined identities lies not in rigid definitions or competition, but in collaboration and mutual respect. Men and women can work together to dismantle outdated stereotypes and build a world where everyone thrives. Kings and queens, whether in traditional roles or modern leadership positions, can utilize their power to champion equality, justice, and progress for all.\n",
    "\n",
    "Ultimately, the stories of man, woman, king, and queen are not separate narratives, but threads woven into a single tapestry of humanity. It is a tapestry constantly evolving, with each generation adding its own unique colors and textures. By embracing diversity, recognizing the strengths of each thread, and collaborating towards a brighter future, we can create a world where every individual flourishes and contributes to a more just and equitable society.\n",
    "\n",
    "Remember, this is just a starting point. Feel free to explore specific aspects of these identities further, delve into historical figures or contemporary movements, or even share your own thoughts and experiences on what it means to be a man, woman, king,'''"
   ]
  },
  {
   "cell_type": "code",
   "execution_count": 79,
   "id": "bbe8c112",
   "metadata": {},
   "outputs": [],
   "source": [
    "paragraph = '''\n",
    "In the tapestry of human history, the roles of kings, queens, men, and women have been central, shaping the course of nations and civilizations. From ancient empires to modern democracies, the dynamics between these figures have reflected the values and norms of their societies.\n",
    "\n",
    "The concept of monarchy, with its king and queen at the helm, dates back to the earliest civilizations. In many cultures, the king was seen as the ultimate authority, wielding power over his subjects and commanding respect through his actions. The queen, often seen as the king's partner, played a crucial role in supporting and advising him.\n",
    "\n",
    "However, the roles of king and queen were not always equal. In many societies, women were viewed as subordinate to men, with their primary roles being wives and mothers. This hierarchy was reflected in the royal courts, where queens were expected to defer to their husbands and serve as symbols of virtue and beauty.\n",
    "\n",
    "Despite these limitations, some queens throughout history have wielded significant power and influence. Cleopatra, for example, ruled over Egypt with intelligence and cunning, using her charm to secure alliances and protect her kingdom. Queen Elizabeth I of England, known as the \"Virgin Queen,\" ruled with strength and wisdom, guiding her country through a period of unprecedented growth and prosperity.\n",
    "\n",
    "In contrast to the traditional roles of kings and queens, the roles of men and women in society have evolved over time. In many cultures, men were expected to be strong and stoic, the primary providers and protectors of their families. Women, on the other hand, were expected to be nurturing and submissive, their worth often measured by their ability to bear children and manage the household.\n",
    "\n",
    "However, as societies have progressed, these gender roles have become less rigid. Women have increasingly taken on roles traditionally held by men, entering the workforce in large numbers and asserting their independence and autonomy. Men, in turn, have embraced roles traditionally associated with women, such as caregiving and homemaking.\n",
    "\n",
    "This evolution has led to a redefinition of the roles of kings, queens, men, and women in society. Today, we recognize that leadership and strength are not limited to one gender. Both men and women can be powerful leaders, capable of making wise and just decisions for the benefit of all.\n",
    "\n",
    "In the modern world, the concept of monarchy has largely been replaced by democratic systems of government, where leaders are elected by the people rather than inheriting their positions. However, the symbols of kingship and queenship still hold significance, representing ideals of leadership, strength, and grace.\n",
    "\n",
    "In conclusion, the roles of kings, queens, men, and women have evolved over time, reflecting changes in society's values and norms. While traditional gender roles have become less rigid, the symbols of monarchy continue to hold meaning, reminding us of the qualities of leadership and nobility that transcend gender.\n",
    "\n",
    "\n",
    "\n",
    "'''"
   ]
  },
  {
   "cell_type": "code",
   "execution_count": 80,
   "id": "8dc2d596",
   "metadata": {},
   "outputs": [
    {
     "name": "stderr",
     "output_type": "stream",
     "text": [
      "[nltk_data] Downloading package stopwords to\n",
      "[nltk_data]     C:\\Users\\Ved\\AppData\\Roaming\\nltk_data...\n",
      "[nltk_data]   Package stopwords is already up-to-date!\n"
     ]
    },
    {
     "data": {
      "text/plain": [
       "True"
      ]
     },
     "execution_count": 80,
     "metadata": {},
     "output_type": "execute_result"
    }
   ],
   "source": [
    "nltk.download('stopwords')"
   ]
  },
  {
   "cell_type": "code",
   "execution_count": null,
   "id": "997ef2d8",
   "metadata": {},
   "outputs": [],
   "source": []
  },
  {
   "cell_type": "code",
   "execution_count": 81,
   "id": "f4e3b9df",
   "metadata": {},
   "outputs": [],
   "source": [
    "# Preprocessing the data\n",
    "text = re.sub(r'\\[[0-9]*\\]',' ',paragraph)\n",
    "text = re.sub(r'\\s+',' ',text)\n",
    "text = text.lower()\n",
    "text = re.sub(r'\\d',' ',text)\n",
    "text = re.sub(r'\\s+',' ',text)\n",
    "\n",
    "# Preparing the dataset\n",
    "sentences = nltk.sent_tokenize(text)\n",
    "\n",
    "sentences = [nltk.word_tokenize(sentence) for sentence in sentences]\n",
    "\n",
    "for i in range(len(sentences)):\n",
    "    sentences[i] = [word for word in sentences[i] if word not in stopwords.words('english')]"
   ]
  },
  {
   "cell_type": "code",
   "execution_count": 109,
   "id": "fdfd1912",
   "metadata": {},
   "outputs": [],
   "source": [
    "# Training the Word2Vec model\n",
    "model = Word2Vec(sentences, min_count=1, vector_size=10)"
   ]
  },
  {
   "cell_type": "code",
   "execution_count": 110,
   "id": "c5a79614",
   "metadata": {},
   "outputs": [],
   "source": [
    "#words = model.wv.vocab"
   ]
  },
  {
   "cell_type": "code",
   "execution_count": 111,
   "id": "a0a35fb2",
   "metadata": {},
   "outputs": [],
   "source": [
    "# Finding Word Vectors\n",
    "vector = model.wv['king']"
   ]
  },
  {
   "cell_type": "code",
   "execution_count": 112,
   "id": "6244b384",
   "metadata": {},
   "outputs": [
    {
     "data": {
      "text/plain": [
       "array([ 0.0170057 ,  0.00154829,  0.03651361,  0.00202738,  0.09703726,\n",
       "        0.05095668, -0.0874937 , -0.06832355,  0.00734526,  0.06256119],\n",
       "      dtype=float32)"
      ]
     },
     "execution_count": 112,
     "metadata": {},
     "output_type": "execute_result"
    }
   ],
   "source": [
    "vector"
   ]
  },
  {
   "cell_type": "code",
   "execution_count": 113,
   "id": "62a69db1",
   "metadata": {},
   "outputs": [],
   "source": [
    "# Most similar words\n",
    "similar = model.wv.most_similar('king')"
   ]
  },
  {
   "cell_type": "code",
   "execution_count": 114,
   "id": "d5e425c5",
   "metadata": {},
   "outputs": [
    {
     "data": {
      "text/plain": [
       "[('conclusion', 0.8949487209320068),\n",
       " ('associated', 0.7604407668113708),\n",
       " ('charm', 0.6157916784286499),\n",
       " ('commanding', 0.606653094291687),\n",
       " ('england', 0.579494297504425),\n",
       " ('dates', 0.5554912686347961),\n",
       " ('led', 0.5365310907363892),\n",
       " ('however', 0.5144866704940796),\n",
       " ('cunning', 0.4890720546245575),\n",
       " ('influence', 0.4887152314186096)]"
      ]
     },
     "execution_count": 114,
     "metadata": {},
     "output_type": "execute_result"
    }
   ],
   "source": [
    "similar"
   ]
  },
  {
   "cell_type": "code",
   "execution_count": 115,
   "id": "08e31e0f",
   "metadata": {},
   "outputs": [],
   "source": [
    "king = model.wv['king']\n",
    "queen = model.wv['queen']\n",
    "man = model.wv['men']\n",
    "woman = model.wv['women']"
   ]
  },
  {
   "cell_type": "code",
   "execution_count": 116,
   "id": "7371b3a1",
   "metadata": {},
   "outputs": [
    {
     "data": {
      "text/plain": [
       "array([ 0.0170057 ,  0.00154829,  0.03651361,  0.00202738,  0.09703726,\n",
       "        0.05095668, -0.0874937 , -0.06832355,  0.00734526,  0.06256119],\n",
       "      dtype=float32)"
      ]
     },
     "execution_count": 116,
     "metadata": {},
     "output_type": "execute_result"
    }
   ],
   "source": [
    "king"
   ]
  },
  {
   "cell_type": "code",
   "execution_count": 117,
   "id": "6a688bb4",
   "metadata": {},
   "outputs": [
    {
     "data": {
      "text/plain": [
       "array([-0.01536992,  0.00283493, -0.04046887, -0.07657296, -0.01479855,\n",
       "        0.02477003, -0.00777622,  0.05645651, -0.02820436,  0.0216521 ],\n",
       "      dtype=float32)"
      ]
     },
     "execution_count": 117,
     "metadata": {},
     "output_type": "execute_result"
    }
   ],
   "source": [
    "queen"
   ]
  },
  {
   "cell_type": "code",
   "execution_count": 118,
   "id": "c4041e44",
   "metadata": {},
   "outputs": [
    {
     "data": {
      "text/plain": [
       "array([ 0.03821354, -0.05775627,  0.2196376 , -0.02743971,  0.07437171,\n",
       "        0.03474562,  0.07070762, -0.22336641, -0.04236385, -0.07739325],\n",
       "      dtype=float32)"
      ]
     },
     "execution_count": 118,
     "metadata": {},
     "output_type": "execute_result"
    }
   ],
   "source": [
    "king-man+woman"
   ]
  },
  {
   "cell_type": "code",
   "execution_count": 119,
   "id": "c6ec8489",
   "metadata": {},
   "outputs": [
    {
     "data": {
      "text/plain": [
       "array([ 0.05358347, -0.0605912 ,  0.26010647,  0.04913325,  0.08917025,\n",
       "        0.00997559,  0.07848383, -0.27982292, -0.01415949, -0.09904535],\n",
       "      dtype=float32)"
      ]
     },
     "execution_count": 119,
     "metadata": {},
     "output_type": "execute_result"
    }
   ],
   "source": [
    "king-man+woman-queen"
   ]
  },
  {
   "cell_type": "code",
   "execution_count": null,
   "id": "d029ce3e",
   "metadata": {},
   "outputs": [],
   "source": []
  },
  {
   "cell_type": "code",
   "execution_count": null,
   "id": "16e4a834",
   "metadata": {},
   "outputs": [],
   "source": []
  }
 ],
 "metadata": {
  "kernelspec": {
   "display_name": "Python 3 (ipykernel)",
   "language": "python",
   "name": "python3"
  },
  "language_info": {
   "codemirror_mode": {
    "name": "ipython",
    "version": 3
   },
   "file_extension": ".py",
   "mimetype": "text/x-python",
   "name": "python",
   "nbconvert_exporter": "python",
   "pygments_lexer": "ipython3",
   "version": "3.11.5"
  }
 },
 "nbformat": 4,
 "nbformat_minor": 5
}
